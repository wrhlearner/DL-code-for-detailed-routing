{
 "cells": [
  {
   "cell_type": "code",
   "execution_count": 1,
   "id": "1dea89e7-84df-4452-8d30-51db1ad1ecfb",
   "metadata": {},
   "outputs": [],
   "source": [
    "from collections import deque"
   ]
  },
  {
   "cell_type": "code",
   "execution_count": 7,
   "id": "3a74108b-4fcb-4323-aec7-0e0b044401eb",
   "metadata": {},
   "outputs": [
    {
     "data": {
      "text/plain": [
       "deque([1, 2, 3, 4, 5], maxlen=10)"
      ]
     },
     "execution_count": 7,
     "metadata": {},
     "output_type": "execute_result"
    }
   ],
   "source": [
    "memory = deque([1, 2, 3, 4, 5], maxlen=10)\n",
    "memory"
   ]
  },
  {
   "cell_type": "code",
   "execution_count": 8,
   "id": "c3accea3-5b1b-4dac-9190-77a1b718c7db",
   "metadata": {},
   "outputs": [
    {
     "name": "stdout",
     "output_type": "stream",
     "text": [
      "5\n",
      "4\n",
      "3\n",
      "2\n"
     ]
    }
   ],
   "source": [
    "tmp = memory.pop()\n",
    "while len(memory):\n",
    "    print(tmp)\n",
    "    tmp = memory.pop()"
   ]
  },
  {
   "cell_type": "code",
   "execution_count": null,
   "id": "995c0ffe-6c82-4f0e-9d01-658f61397f7a",
   "metadata": {},
   "outputs": [],
   "source": []
  }
 ],
 "metadata": {
  "kernelspec": {
   "display_name": "Python 3 (ipykernel)",
   "language": "python",
   "name": "python3"
  },
  "language_info": {
   "codemirror_mode": {
    "name": "ipython",
    "version": 3
   },
   "file_extension": ".py",
   "mimetype": "text/x-python",
   "name": "python",
   "nbconvert_exporter": "python",
   "pygments_lexer": "ipython3",
   "version": "3.10.12"
  }
 },
 "nbformat": 4,
 "nbformat_minor": 5
}
