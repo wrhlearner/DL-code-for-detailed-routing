{
 "cells": [
  {
   "cell_type": "code",
   "execution_count": 1,
   "id": "e7f52802",
   "metadata": {},
   "outputs": [],
   "source": [
    "import os\n",
    "import torch\n",
    "import numpy as np\n",
    "import random\n",
    "from utils import buildDataset"
   ]
  },
  {
   "cell_type": "markdown",
   "id": "0fa1a007",
   "metadata": {},
   "source": [
    "## build dataset"
   ]
  },
  {
   "cell_type": "code",
   "execution_count": 2,
   "id": "d1583b3f",
   "metadata": {},
   "outputs": [],
   "source": [
    "defaultStrategy = \"./DefaultStrategy.txt\"\n",
    "defaultOutput = \"./defaultOutputs.txt\"\n",
    "strategy = \"./strategy.txt\"\n",
    "output = \"./outputs.txt\"\n",
    "dataset = buildDataset.getData(strategy, output, defaultStrategy, defaultOutput)"
   ]
  },
  {
   "cell_type": "code",
   "execution_count": 3,
   "id": "c56b9c30",
   "metadata": {},
   "outputs": [
    {
     "data": {
      "text/plain": [
       "77"
      ]
     },
     "execution_count": 3,
     "metadata": {},
     "output_type": "execute_result"
    }
   ],
   "source": [
    "len(dataset)"
   ]
  },
  {
   "cell_type": "code",
   "execution_count": 4,
   "id": "e5d88914",
   "metadata": {
    "scrolled": false
   },
   "outputs": [
    {
     "data": {
      "text/plain": [
       "[[{'size': 7,\n",
       "   'offset': 0,\n",
       "   'mazeEndIter': 3,\n",
       "   'MarkerCost': 0,\n",
       "   'FixedShapeCost': 8,\n",
       "   'Decay': 0.95,\n",
       "   'ripupMode': 0,\n",
       "   'followGuide': 1},\n",
       "  10178],\n",
       " [{'size': 7,\n",
       "   'offset': -2,\n",
       "   'mazeEndIter': 3,\n",
       "   'MarkerCost': 8,\n",
       "   'FixedShapeCost': 8,\n",
       "   'Decay': 0.95,\n",
       "   'ripupMode': 0,\n",
       "   'followGuide': 1},\n",
       "  569],\n",
       " [{'size': 7,\n",
       "   'offset': -5,\n",
       "   'mazeEndIter': 3,\n",
       "   'MarkerCost': 8,\n",
       "   'FixedShapeCost': 8,\n",
       "   'Decay': 0.95,\n",
       "   'ripupMode': 0,\n",
       "   'followGuide': 1},\n",
       "  499],\n",
       " [{'size': 7,\n",
       "   'offset': 0,\n",
       "   'mazeEndIter': 8,\n",
       "   'MarkerCost': 32,\n",
       "   'FixedShapeCost': 16,\n",
       "   'Decay': 0.95,\n",
       "   'ripupMode': 1,\n",
       "   'followGuide': 0},\n",
       "  1],\n",
       " [{'size': 7,\n",
       "   'offset': -1,\n",
       "   'mazeEndIter': 8,\n",
       "   'MarkerCost': 32,\n",
       "   'FixedShapeCost': 16,\n",
       "   'Decay': 0.95,\n",
       "   'ripupMode': 1,\n",
       "   'followGuide': 0},\n",
       "  0]]"
      ]
     },
     "execution_count": 4,
     "metadata": {},
     "output_type": "execute_result"
    }
   ],
   "source": [
    "dataset[0]"
   ]
  },
  {
   "cell_type": "markdown",
   "id": "55124ecb",
   "metadata": {},
   "source": [
    "# Turning datapoint to tensor"
   ]
  },
  {
   "cell_type": "markdown",
   "id": "3c193fef",
   "metadata": {},
   "source": [
    "To represent a single data point input, we use a tensor of size <No_Strategy x 1 x 9>. (9 includes 8 DRC sequence items, and 1 output DRC value)"
   ]
  },
  {
   "cell_type": "code",
   "execution_count": 5,
   "id": "9a5018cb",
   "metadata": {},
   "outputs": [],
   "source": [
    "Dataset = buildDataset.datasetToTensor(dataset)"
   ]
  },
  {
   "cell_type": "code",
   "execution_count": 6,
   "id": "a50e7f4f",
   "metadata": {},
   "outputs": [
    {
     "data": {
      "text/plain": [
       "77"
      ]
     },
     "execution_count": 6,
     "metadata": {},
     "output_type": "execute_result"
    }
   ],
   "source": [
    "len(Dataset)"
   ]
  },
  {
   "cell_type": "code",
   "execution_count": 7,
   "id": "3c6bc53b",
   "metadata": {},
   "outputs": [
    {
     "data": {
      "text/plain": [
       "tensor([[[ 7.0000e+00,  0.0000e+00,  3.0000e+00,  0.0000e+00,  8.0000e+00,\n",
       "           9.5000e-01,  0.0000e+00,  1.0000e+00,  1.0178e+04]],\n",
       "\n",
       "        [[ 7.0000e+00, -2.0000e+00,  3.0000e+00,  8.0000e+00,  8.0000e+00,\n",
       "           9.5000e-01,  0.0000e+00,  1.0000e+00,  1.0178e+04]],\n",
       "\n",
       "        [[ 7.0000e+00, -5.0000e+00,  3.0000e+00,  8.0000e+00,  8.0000e+00,\n",
       "           9.5000e-01,  0.0000e+00,  1.0000e+00,  5.6900e+02]],\n",
       "\n",
       "        [[ 7.0000e+00,  0.0000e+00,  8.0000e+00,  3.2000e+01,  1.6000e+01,\n",
       "           9.5000e-01,  1.0000e+00,  0.0000e+00,  4.9900e+02]],\n",
       "\n",
       "        [[ 7.0000e+00, -1.0000e+00,  8.0000e+00,  3.2000e+01,  1.6000e+01,\n",
       "           9.5000e-01,  1.0000e+00,  0.0000e+00,  1.0000e+00]]])"
      ]
     },
     "execution_count": 7,
     "metadata": {},
     "output_type": "execute_result"
    }
   ],
   "source": [
    "Dataset[0]"
   ]
  },
  {
   "cell_type": "code",
   "execution_count": 8,
   "id": "e26044fa",
   "metadata": {},
   "outputs": [
    {
     "data": {
      "text/plain": [
       "torch.Size([5, 1, 9])"
      ]
     },
     "execution_count": 8,
     "metadata": {},
     "output_type": "execute_result"
    }
   ],
   "source": [
    "Dataset[0].size()"
   ]
  },
  {
   "cell_type": "markdown",
   "id": "cacb3d98",
   "metadata": {},
   "source": [
    "# train-test split of the dataset"
   ]
  },
  {
   "cell_type": "code",
   "execution_count": 9,
   "id": "4d764dc1",
   "metadata": {},
   "outputs": [],
   "source": [
    "trainningSet, testSet = buildDataset.splitDataset(Dataset, trainSize = 0.7)"
   ]
  },
  {
   "cell_type": "code",
   "execution_count": 10,
   "id": "fbb5c0d2",
   "metadata": {},
   "outputs": [
    {
     "data": {
      "text/plain": [
       "53"
      ]
     },
     "execution_count": 10,
     "metadata": {},
     "output_type": "execute_result"
    }
   ],
   "source": [
    "len(trainningSet)"
   ]
  },
  {
   "cell_type": "code",
   "execution_count": 11,
   "id": "15e1cd42",
   "metadata": {},
   "outputs": [
    {
     "data": {
      "text/plain": [
       "24"
      ]
     },
     "execution_count": 11,
     "metadata": {},
     "output_type": "execute_result"
    }
   ],
   "source": [
    "len(testSet)"
   ]
  },
  {
   "cell_type": "code",
   "execution_count": 12,
   "id": "fb10179e",
   "metadata": {
    "scrolled": true
   },
   "outputs": [
    {
     "data": {
      "text/plain": [
       "tensor([[[  7.0000,   0.0000,   3.0000,   0.0000,   8.0000,   0.9500,   0.0000,\n",
       "            1.0000, 205.0000]],\n",
       "\n",
       "        [[  7.0000,  -2.0000,   3.0000,   8.0000,   8.0000,   0.9500,   0.0000,\n",
       "            1.0000, 205.0000]],\n",
       "\n",
       "        [[  7.0000,  -5.0000,   3.0000,   8.0000,   8.0000,   0.9500,   0.0000,\n",
       "            1.0000,  10.0000]],\n",
       "\n",
       "        [[  7.0000,   0.0000,   8.0000,  32.0000,  16.0000,   0.9500,   1.0000,\n",
       "            0.0000,   7.0000]]])"
      ]
     },
     "execution_count": 12,
     "metadata": {},
     "output_type": "execute_result"
    }
   ],
   "source": [
    "trainningSet[0]"
   ]
  },
  {
   "cell_type": "code",
   "execution_count": 13,
   "id": "c36ba484",
   "metadata": {},
   "outputs": [
    {
     "data": {
      "text/plain": [
       "torch.Size([4, 1, 9])"
      ]
     },
     "execution_count": 13,
     "metadata": {},
     "output_type": "execute_result"
    }
   ],
   "source": [
    "trainningSet[0].size()"
   ]
  },
  {
   "cell_type": "markdown",
   "id": "91a58e89",
   "metadata": {},
   "source": [
    "# Creating the Network"
   ]
  },
  {
   "cell_type": "code",
   "execution_count": 14,
   "id": "640fcf13",
   "metadata": {},
   "outputs": [],
   "source": [
    "# reference: https://pytorch.org/tutorials/intermediate/char_rnn_classification_tutorial.html\n",
    "import torch.nn as nn\n",
    "\n",
    "class RNN(nn.Module):\n",
    "    def __init__(self, input_size, hidden_size, output_size):\n",
    "        super(RNN, self).__init__()\n",
    "\n",
    "        self.hidden_size = hidden_size\n",
    "\n",
    "        self.i2h = nn.Linear(input_size + hidden_size, hidden_size)\n",
    "        self.h2o = nn.Linear(hidden_size, output_size)\n",
    "        self.relu = nn.ReLU()\n",
    "\n",
    "    def forward(self, inputData, hidden):\n",
    "        combined = torch.cat((inputData, hidden), dim=1)\n",
    "        hidden = self.i2h(self.relu(combined))\n",
    "        output = self.h2o(self.relu(hidden))\n",
    "        return output, hidden\n",
    "\n",
    "    def initHidden(self):\n",
    "        return torch.zeros(1, self.hidden_size)"
   ]
  },
  {
   "cell_type": "code",
   "execution_count": 15,
   "id": "4b099f2f",
   "metadata": {},
   "outputs": [],
   "source": [
    "n_input = len(trainningSet[0][0][0])\n",
    "n_hidden = 128"
   ]
  },
  {
   "cell_type": "code",
   "execution_count": 16,
   "id": "42e8bbde",
   "metadata": {},
   "outputs": [
    {
     "data": {
      "text/plain": [
       "9"
      ]
     },
     "execution_count": 16,
     "metadata": {},
     "output_type": "execute_result"
    }
   ],
   "source": [
    "n_input"
   ]
  },
  {
   "cell_type": "code",
   "execution_count": 17,
   "id": "4bbb2338",
   "metadata": {},
   "outputs": [],
   "source": [
    "n_output = 1"
   ]
  },
  {
   "cell_type": "code",
   "execution_count": 18,
   "id": "bac055ae",
   "metadata": {},
   "outputs": [],
   "source": [
    "rnn = RNN(n_input, n_hidden, n_output)"
   ]
  },
  {
   "cell_type": "markdown",
   "id": "cee2eaf4",
   "metadata": {},
   "source": [
    "# Run a step of the network"
   ]
  },
  {
   "cell_type": "markdown",
   "id": "fea37ad4",
   "metadata": {},
   "source": [
    "To run a step of this network we need to pass an input (in our case, the Tensor for the current strategy) and a previous hidden state (which we initialize as zeros at first). We’ll get back the output (probability of drcs) and a next hidden state (which we keep for the next step)."
   ]
  },
  {
   "cell_type": "code",
   "execution_count": 19,
   "id": "a2bd6685",
   "metadata": {},
   "outputs": [],
   "source": [
    "import torch"
   ]
  },
  {
   "cell_type": "code",
   "execution_count": 20,
   "id": "3795c271",
   "metadata": {
    "scrolled": true
   },
   "outputs": [],
   "source": [
    "inputStrategy = trainningSet[0][0]\n",
    "hidden = torch.zeros(1, n_hidden)\n",
    "\n",
    "output, next_hidden = rnn(inputStrategy, hidden)"
   ]
  },
  {
   "cell_type": "code",
   "execution_count": 21,
   "id": "e1c89535",
   "metadata": {},
   "outputs": [
    {
     "data": {
      "text/plain": [
       "tensor([[ 10.2733,  -5.4157,   4.0527,  -5.2640,  15.0990, -14.5151,  10.2025,\n",
       "          14.9126, -12.7203,  17.1421, -14.5290,   3.3869,   1.2967,   8.5711,\n",
       "           6.6895,  -7.9834,  -2.7663,   4.7589,  -8.3400, -16.9978,  10.0051,\n",
       "          14.8295, -10.1739,   9.1431, -16.9060, -13.3824,   4.2763,  -1.1257,\n",
       "          -0.1408, -11.4924,  13.2630,  16.3501,   2.1801,  11.6305, -12.8360,\n",
       "           2.6284,  13.1002, -10.7731,  15.7131,   3.6854,  15.0614,   1.4792,\n",
       "           2.0799,   9.2900,  -1.6103,  -3.4338,   6.1251,  -7.5789,   5.8351,\n",
       "         -15.7476,  12.3593,  -9.0797,  -8.2012,  -7.7256, -14.6811,   5.4273,\n",
       "         -14.2795,  -9.2777,  -2.5446,   7.1093, -17.2309,  -2.2482, -17.1392,\n",
       "           1.0100, -16.4288,  -2.4497,  -6.9073,  12.7852,   4.6345,   4.5517,\n",
       "          14.3789,  10.9578,  -4.4391,   1.3161, -10.1629,  -0.8592,   9.0096,\n",
       "          -7.4772,  14.0926,   0.7823,   3.1764,  -4.8885,  -6.0693,  -1.3196,\n",
       "          -3.4479,   6.8127,  -8.7889,   4.7104, -11.3791,   6.6067,  -8.8065,\n",
       "          -4.8270,  -9.6288,  11.7730,  13.7032,  -4.0494,  -7.8445, -12.3656,\n",
       "          -7.9146,  -7.8854, -12.5129,   0.3336,   3.5663,  -2.8187,  -6.6006,\n",
       "          -0.6142,  14.6569,  11.8753,  -9.8937,  12.1663,  10.1117,  -1.6670,\n",
       "         -14.9888,   2.6804,  -9.4968,  -2.4186,  -6.5290,   8.6044,  -0.3532,\n",
       "           6.7442,  -6.9028,  -8.1336,  -7.6895,   3.3143,  -9.5795,  13.0157,\n",
       "          16.2130,  11.1347]], grad_fn=<AddmmBackward0>)"
      ]
     },
     "execution_count": 21,
     "metadata": {},
     "output_type": "execute_result"
    }
   ],
   "source": [
    "next_hidden"
   ]
  },
  {
   "cell_type": "code",
   "execution_count": 22,
   "id": "288ca0c6",
   "metadata": {},
   "outputs": [
    {
     "data": {
      "text/plain": [
       "tensor([[-6.4678]], grad_fn=<AddmmBackward0>)"
      ]
     },
     "execution_count": 22,
     "metadata": {},
     "output_type": "execute_result"
    }
   ],
   "source": [
    "output"
   ]
  },
  {
   "cell_type": "markdown",
   "id": "80fb0ef9",
   "metadata": {},
   "source": [
    "# Training"
   ]
  },
  {
   "cell_type": "code",
   "execution_count": 23,
   "id": "1151d3db",
   "metadata": {},
   "outputs": [],
   "source": [
    "criterion = nn.MSELoss()"
   ]
  },
  {
   "cell_type": "code",
   "execution_count": 24,
   "id": "9e34fecd",
   "metadata": {},
   "outputs": [],
   "source": [
    "learning_rate = 0.001 # If you set this too high, it might explode. If too low, it might not learn"
   ]
  },
  {
   "cell_type": "code",
   "execution_count": 25,
   "id": "d4475b2e",
   "metadata": {},
   "outputs": [],
   "source": [
    "import torch.optim as optim\n",
    "optimizer = optim.Adam(rnn.parameters(), lr=learning_rate)"
   ]
  },
  {
   "cell_type": "code",
   "execution_count": 28,
   "id": "669c7e8e",
   "metadata": {},
   "outputs": [],
   "source": [
    "n_iters = 100\n",
    "print_every = 10\n",
    "plot_every = 1"
   ]
  },
  {
   "cell_type": "code",
   "execution_count": 29,
   "id": "7e18f552",
   "metadata": {},
   "outputs": [],
   "source": [
    "def train(x):\n",
    "    hidden = rnn.initHidden()\n",
    "    y = torch.zeros(1, n_output)\n",
    "    \n",
    "    rnn.zero_grad()\n",
    "\n",
    "    for i in range(x.size()[0]):\n",
    "        output, hidden = rnn(x[i], hidden)\n",
    "\n",
    "    loss = criterion(output, y)\n",
    "    loss.backward()\n",
    "\n",
    "    # Add parameters' gradients to their values, multiplied by learning rate\n",
    "    for p in rnn.parameters():\n",
    "        p.data.add_(p.grad.data, alpha=-learning_rate)\n",
    "\n",
    "    return output, loss.item()"
   ]
  },
  {
   "cell_type": "code",
   "execution_count": 30,
   "id": "4ddbc6c7",
   "metadata": {},
   "outputs": [],
   "source": [
    "import time\n",
    "import math"
   ]
  },
  {
   "cell_type": "code",
   "execution_count": 31,
   "id": "2d3b1c94",
   "metadata": {},
   "outputs": [],
   "source": [
    "def timeSince(since):\n",
    "    now = time.time()\n",
    "    s = now - since\n",
    "    m = math.floor(s / 60)\n",
    "    s -= m * 60\n",
    "    return '%dm %ds' % (m, s)\n",
    "\n",
    "start = time.time()"
   ]
  },
  {
   "cell_type": "code",
   "execution_count": 32,
   "id": "d3c5c8e5",
   "metadata": {},
   "outputs": [],
   "source": [
    "# Keep track of losses for plotting\n",
    "current_loss = 0\n",
    "all_losses = []"
   ]
  },
  {
   "cell_type": "code",
   "execution_count": 33,
   "id": "26a5f749",
   "metadata": {
    "scrolled": true
   },
   "outputs": [
    {
     "name": "stdout",
     "output_type": "stream",
     "text": [
      "10 10% (0m 0s) nan\n",
      "20 20% (0m 0s) nan\n",
      "30 30% (0m 0s) nan\n",
      "40 40% (0m 0s) nan\n",
      "50 50% (0m 0s) nan\n",
      "60 60% (0m 0s) nan\n",
      "70 70% (0m 0s) nan\n",
      "80 80% (0m 0s) nan\n",
      "90 90% (0m 0s) nan\n",
      "100 100% (0m 0s) nan\n"
     ]
    }
   ],
   "source": [
    "for iter in range(1, n_iters + 1):\n",
    "    # randomly generate an index in training set\n",
    "    index = random.randint(0, len(trainningSet) - 1)\n",
    "    x = trainningSet[index]\n",
    "    output, loss = train(x)\n",
    "    current_loss += loss\n",
    "\n",
    "    # Print ``iter`` number, loss, name and guess\n",
    "    if iter % print_every == 0:\n",
    "        print('%d %d%% (%s) %.4f' % (iter, iter / n_iters * 100, timeSince(start), loss))\n",
    "\n",
    "    # Add current loss avg to list of losses\n",
    "    if iter % plot_every == 0:\n",
    "        all_losses.append(current_loss / plot_every)\n",
    "        current_loss = 0"
   ]
  },
  {
   "cell_type": "markdown",
   "id": "66a791e8",
   "metadata": {},
   "source": [
    "# Result evaluation"
   ]
  },
  {
   "cell_type": "code",
   "execution_count": 34,
   "id": "5393b42a",
   "metadata": {},
   "outputs": [],
   "source": [
    "# print(\"MSE: %.2f\" % best_mse)\n",
    "# print(\"RMSE: %.2f\" % np.sqrt(best_mse))\n",
    "# plt.plot(history)\n",
    "# plt.show()"
   ]
  },
  {
   "cell_type": "code",
   "execution_count": 35,
   "id": "d6218730",
   "metadata": {},
   "outputs": [
    {
     "data": {
      "text/plain": [
       "[<matplotlib.lines.Line2D at 0x7f552ee73850>]"
      ]
     },
     "execution_count": 35,
     "metadata": {},
     "output_type": "execute_result"
    },
    {
     "data": {
      "image/png": "[encoded data removed]",
      "text/plain": [
       "<Figure size 640x480 with 1 Axes>"
      ]
     },
     "metadata": {},
     "output_type": "display_data"
    }
   ],
   "source": [
    "import matplotlib.pyplot as plt\n",
    "import matplotlib.ticker as ticker\n",
    "\n",
    "plt.figure()\n",
    "plt.plot(all_losses)"
   ]
  },
  {
   "cell_type": "code",
   "execution_count": 36,
   "id": "b78343bb",
   "metadata": {
    "scrolled": true
   },
   "outputs": [
    {
     "data": {
      "text/plain": [
       "[229.59442138671875,\n",
       " 5.027129598444769e+28,\n",
       " nan,\n",
       " nan,\n",
       " nan,\n",
       " nan,\n",
       " nan,\n",
       " nan,\n",
       " nan,\n",
       " nan,\n",
       " nan,\n",
       " nan,\n",
       " nan,\n",
       " nan,\n",
       " nan,\n",
       " nan,\n",
       " nan,\n",
       " nan,\n",
       " nan,\n",
       " nan,\n",
       " nan,\n",
       " nan,\n",
       " nan,\n",
       " nan,\n",
       " nan,\n",
       " nan,\n",
       " nan,\n",
       " nan,\n",
       " nan,\n",
       " nan,\n",
       " nan,\n",
       " nan,\n",
       " nan,\n",
       " nan,\n",
       " nan,\n",
       " nan,\n",
       " nan,\n",
       " nan,\n",
       " nan,\n",
       " nan,\n",
       " nan,\n",
       " nan,\n",
       " nan,\n",
       " nan,\n",
       " nan,\n",
       " nan,\n",
       " nan,\n",
       " nan,\n",
       " nan,\n",
       " nan,\n",
       " nan,\n",
       " nan,\n",
       " nan,\n",
       " nan,\n",
       " nan,\n",
       " nan,\n",
       " nan,\n",
       " nan,\n",
       " nan,\n",
       " nan,\n",
       " nan,\n",
       " nan,\n",
       " nan,\n",
       " nan,\n",
       " nan,\n",
       " nan,\n",
       " nan,\n",
       " nan,\n",
       " nan,\n",
       " nan,\n",
       " nan,\n",
       " nan,\n",
       " nan,\n",
       " nan,\n",
       " nan,\n",
       " nan,\n",
       " nan,\n",
       " nan,\n",
       " nan,\n",
       " nan,\n",
       " nan,\n",
       " nan,\n",
       " nan,\n",
       " nan,\n",
       " nan,\n",
       " nan,\n",
       " nan,\n",
       " nan,\n",
       " nan,\n",
       " nan,\n",
       " nan,\n",
       " nan,\n",
       " nan,\n",
       " nan,\n",
       " nan,\n",
       " nan,\n",
       " nan,\n",
       " nan,\n",
       " nan,\n",
       " nan]"
      ]
     },
     "execution_count": 36,
     "metadata": {},
     "output_type": "execute_result"
    }
   ],
   "source": [
    "all_losses"
   ]
  },
  {
   "cell_type": "markdown",
   "id": "96ccd70b",
   "metadata": {},
   "source": [
    "# Running one unseen inputs"
   ]
  },
  {
   "cell_type": "code",
   "execution_count": 37,
   "id": "1c0dc8a5",
   "metadata": {},
   "outputs": [],
   "source": [
    "# Just return an output given an input\n",
    "def evaluate(x):\n",
    "    hidden = rnn.initHidden()\n",
    "    result = []\n",
    "    \n",
    "    for i in range(x.size()[0]):\n",
    "        output, hidden = rnn(x[i], hidden)\n",
    "        result.append(output)\n",
    "\n",
    "    return result"
   ]
  },
  {
   "cell_type": "code",
   "execution_count": 38,
   "id": "9f99ee11",
   "metadata": {},
   "outputs": [],
   "source": [
    "def predict(x):\n",
    "    with torch.no_grad():\n",
    "        result = evaluate(x)\n",
    "    return result"
   ]
  },
  {
   "cell_type": "code",
   "execution_count": 39,
   "id": "a37a4395",
   "metadata": {},
   "outputs": [],
   "source": [
    "results = []\n",
    "for index in range(len(testSet)):\n",
    "    x = testSet[index]\n",
    "    output = predict(x)\n",
    "    results.append(output)"
   ]
  },
  {
   "cell_type": "code",
   "execution_count": 40,
   "id": "61f44abd",
   "metadata": {},
   "outputs": [
    {
     "data": {
      "text/plain": [
       "[tensor([[nan]]),\n",
       " tensor([[nan]]),\n",
       " tensor([[nan]]),\n",
       " tensor([[nan]]),\n",
       " tensor([[nan]])]"
      ]
     },
     "execution_count": 40,
     "metadata": {},
     "output_type": "execute_result"
    }
   ],
   "source": [
    "results[0]"
   ]
  },
  {
   "cell_type": "code",
   "execution_count": null,
   "id": "350eb9d0",
   "metadata": {},
   "outputs": [],
   "source": []
  },
  {
   "cell_type": "code",
   "execution_count": null,
   "id": "2d8c31d8",
   "metadata": {},
   "outputs": [],
   "source": []
  }
 ],
 "metadata": {
  "kernelspec": {
   "display_name": "Python 3 (ipykernel)",
   "language": "python",
   "name": "python3"
  },
  "language_info": {
   "codemirror_mode": {
    "name": "ipython",
    "version": 3
   },
   "file_extension": ".py",
   "mimetype": "text/x-python",
   "name": "python",
   "nbconvert_exporter": "python",
   "pygments_lexer": "ipython3",
   "version": "3.11.5"
  }
 },
 "nbformat": 4,
 "nbformat_minor": 5
}
