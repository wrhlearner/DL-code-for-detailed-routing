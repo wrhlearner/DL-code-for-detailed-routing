{
 "cells": [
  {
   "cell_type": "markdown",
   "metadata": {
    "_cell_guid": "182a3810-aab7-4d65-8ff7-0ad50183d769",
    "_uuid": "c8c2cca5ed3dcf9ff50ba2da4c9db56329bfc2cb"
   },
   "source": [
    "**Author:** Raoul Malm  \n",
    "\n",
    "**Description:** \n",
    "\n",
    "This notebook demonstrates the future price prediction for different stocks using recurrent neural networks in tensorflow. Recurrent neural networks with basic, LSTM or GRU cells are implemented. \n",
    "\n",
    "**Outline:**\n",
    "\n",
    "1. [Libraries and settings](#1-bullet)\n",
    "2. [Analyze data](#2-bullet)\n",
    "3. [Manipulate data](#3-bullet)\n",
    "4. [Model and validate data](#4-bullet)\n",
    "5. [Predictions](#5-bullet)\n",
    "\n",
    "**Reference:**  \n",
    "\n",
    "[LSTM_Stock_prediction-20170507 by BenF](https://www.kaggle.com/benjibb/lstm-stock-prediction-20170507/notebook)"
   ]
  },
  {
   "cell_type": "markdown",
   "metadata": {
    "_cell_guid": "1426ca5e-ed0c-4766-ac74-cd1dd38c680c",
    "_uuid": "8ec772a02eb88c3446fe0f689b2e1ee8ec9deb6b"
   },
   "source": [
    "# 1. Libraries and settings <a class=\"anchor\" id=\"1-bullet\"></a> "
   ]
  },
  {
   "cell_type": "code",
   "execution_count": 1,
   "metadata": {
    "_cell_guid": "5a142d3f-96b5-4378-bb01-903367721e08",
    "_uuid": "78e6c0015907947ff5fade7ad76317633d27177a"
   },
   "outputs": [],
   "source": [
    "import numpy as np\n",
    "import pandas as pd\n",
    "\n",
    "import torch\n",
    "import torch.nn as nn\n",
    "import math\n",
    "import datetime\n",
    "import os\n",
    "import matplotlib.pyplot as plt"
   ]
  },
  {
   "cell_type": "markdown",
   "metadata": {
    "_cell_guid": "5416ce8a-24ff-4903-a09b-b2941eae71d9",
    "_uuid": "9422490f417bc1fcac8e6a0a392faa7451173dac"
   },
   "source": [
    "# 2. Analyze data <a class=\"anchor\" id=\"2-bullet\"></a> \n",
    "- load stock prices from prices-split-adjusted.csv\n",
    "- analyze data"
   ]
  },
  {
   "cell_type": "code",
   "execution_count": 2,
   "metadata": {
    "_cell_guid": "60dbc696-dda8-476e-8227-010a79df3aa2",
    "_uuid": "aef1074dd4f86a9fe5a380c83994123ce56cce9d"
   },
   "outputs": [
    {
     "name": "stdout",
     "output_type": "stream",
     "text": [
      "<class 'pandas.core.frame.DataFrame'>\n",
      "Index: 851264 entries, 2016-01-05 to 2016-12-30\n",
      "Data columns (total 6 columns):\n",
      " #   Column  Non-Null Count   Dtype  \n",
      "---  ------  --------------   -----  \n",
      " 0   symbol  851264 non-null  object \n",
      " 1   open    851264 non-null  float64\n",
      " 2   close   851264 non-null  float64\n",
      " 3   low     851264 non-null  float64\n",
      " 4   high    851264 non-null  float64\n",
      " 5   volume  851264 non-null  float64\n",
      "dtypes: float64(5), object(1)\n",
      "memory usage: 45.5+ MB\n",
      "\n",
      "number of different stocks:  501\n",
      "['HCN', 'TDC', 'HON', 'CPB', 'HSIC', 'DFS', 'SYY', 'FTI', 'WAT', 'DHR']\n"
     ]
    }
   ],
   "source": [
    "# import all stock prices \n",
    "df = pd.read_csv(\"./prices-split-adjusted.csv\", index_col = 0)\n",
    "df.info()\n",
    "df.head()\n",
    "\n",
    "# number of different stocks\n",
    "print('\\nnumber of different stocks: ', len(list(set(df.symbol))))\n",
    "print(list(set(df.symbol))[:10])"
   ]
  },
  {
   "cell_type": "code",
   "execution_count": 3,
   "metadata": {
    "_cell_guid": "962ea6e1-51ff-4bba-ad30-77ca5c765d59",
    "_uuid": "c06e709a1bfecb963213943dc7ce8cd559780d9b"
   },
   "outputs": [
    {
     "data": {
      "text/html": [
       "<div>\n",
       "<style scoped>\n",
       "    .dataframe tbody tr th:only-of-type {\n",
       "        vertical-align: middle;\n",
       "    }\n",
       "\n",
       "    .dataframe tbody tr th {\n",
       "        vertical-align: top;\n",
       "    }\n",
       "\n",
       "    .dataframe thead th {\n",
       "        text-align: right;\n",
       "    }\n",
       "</style>\n",
       "<table border=\"1\" class=\"dataframe\">\n",
       "  <thead>\n",
       "    <tr style=\"text-align: right;\">\n",
       "      <th></th>\n",
       "      <th>symbol</th>\n",
       "      <th>open</th>\n",
       "      <th>close</th>\n",
       "      <th>low</th>\n",
       "      <th>high</th>\n",
       "      <th>volume</th>\n",
       "    </tr>\n",
       "    <tr>\n",
       "      <th>date</th>\n",
       "      <th></th>\n",
       "      <th></th>\n",
       "      <th></th>\n",
       "      <th></th>\n",
       "      <th></th>\n",
       "      <th></th>\n",
       "    </tr>\n",
       "  </thead>\n",
       "  <tbody>\n",
       "    <tr>\n",
       "      <th>2016-12-30</th>\n",
       "      <td>ZBH</td>\n",
       "      <td>103.309998</td>\n",
       "      <td>103.199997</td>\n",
       "      <td>102.849998</td>\n",
       "      <td>103.930000</td>\n",
       "      <td>973800.0</td>\n",
       "    </tr>\n",
       "    <tr>\n",
       "      <th>2016-12-30</th>\n",
       "      <td>ZION</td>\n",
       "      <td>43.070000</td>\n",
       "      <td>43.040001</td>\n",
       "      <td>42.689999</td>\n",
       "      <td>43.310001</td>\n",
       "      <td>1938100.0</td>\n",
       "    </tr>\n",
       "    <tr>\n",
       "      <th>2016-12-30</th>\n",
       "      <td>ZTS</td>\n",
       "      <td>53.639999</td>\n",
       "      <td>53.529999</td>\n",
       "      <td>53.270000</td>\n",
       "      <td>53.740002</td>\n",
       "      <td>1701200.0</td>\n",
       "    </tr>\n",
       "    <tr>\n",
       "      <th>2016-12-30</th>\n",
       "      <td>AIV</td>\n",
       "      <td>44.730000</td>\n",
       "      <td>45.450001</td>\n",
       "      <td>44.410000</td>\n",
       "      <td>45.590000</td>\n",
       "      <td>1380900.0</td>\n",
       "    </tr>\n",
       "    <tr>\n",
       "      <th>2016-12-30</th>\n",
       "      <td>FTV</td>\n",
       "      <td>54.200001</td>\n",
       "      <td>53.630001</td>\n",
       "      <td>53.389999</td>\n",
       "      <td>54.480000</td>\n",
       "      <td>705100.0</td>\n",
       "    </tr>\n",
       "  </tbody>\n",
       "</table>\n",
       "</div>"
      ],
      "text/plain": [
       "           symbol        open       close         low        high     volume\n",
       "date                                                                        \n",
       "2016-12-30    ZBH  103.309998  103.199997  102.849998  103.930000   973800.0\n",
       "2016-12-30   ZION   43.070000   43.040001   42.689999   43.310001  1938100.0\n",
       "2016-12-30    ZTS   53.639999   53.529999   53.270000   53.740002  1701200.0\n",
       "2016-12-30    AIV   44.730000   45.450001   44.410000   45.590000  1380900.0\n",
       "2016-12-30    FTV   54.200001   53.630001   53.389999   54.480000   705100.0"
      ]
     },
     "execution_count": 3,
     "metadata": {},
     "output_type": "execute_result"
    }
   ],
   "source": [
    "df.tail()"
   ]
  },
  {
   "cell_type": "code",
   "execution_count": 4,
   "metadata": {
    "_cell_guid": "d1fc9207-adcd-44f4-85a1-065d34fd82f2",
    "_uuid": "60ee56dd22397b9c545ea7dcc318f5c733d419ba"
   },
   "outputs": [
    {
     "data": {
      "text/html": [
       "<div>\n",
       "<style scoped>\n",
       "    .dataframe tbody tr th:only-of-type {\n",
       "        vertical-align: middle;\n",
       "    }\n",
       "\n",
       "    .dataframe tbody tr th {\n",
       "        vertical-align: top;\n",
       "    }\n",
       "\n",
       "    .dataframe thead th {\n",
       "        text-align: right;\n",
       "    }\n",
       "</style>\n",
       "<table border=\"1\" class=\"dataframe\">\n",
       "  <thead>\n",
       "    <tr style=\"text-align: right;\">\n",
       "      <th></th>\n",
       "      <th>open</th>\n",
       "      <th>close</th>\n",
       "      <th>low</th>\n",
       "      <th>high</th>\n",
       "      <th>volume</th>\n",
       "    </tr>\n",
       "  </thead>\n",
       "  <tbody>\n",
       "    <tr>\n",
       "      <th>count</th>\n",
       "      <td>851264.000000</td>\n",
       "      <td>851264.000000</td>\n",
       "      <td>851264.000000</td>\n",
       "      <td>851264.000000</td>\n",
       "      <td>8.512640e+05</td>\n",
       "    </tr>\n",
       "    <tr>\n",
       "      <th>mean</th>\n",
       "      <td>64.993618</td>\n",
       "      <td>65.011913</td>\n",
       "      <td>64.336541</td>\n",
       "      <td>65.639748</td>\n",
       "      <td>5.415113e+06</td>\n",
       "    </tr>\n",
       "    <tr>\n",
       "      <th>std</th>\n",
       "      <td>75.203893</td>\n",
       "      <td>75.201216</td>\n",
       "      <td>74.459518</td>\n",
       "      <td>75.906861</td>\n",
       "      <td>1.249468e+07</td>\n",
       "    </tr>\n",
       "    <tr>\n",
       "      <th>min</th>\n",
       "      <td>1.660000</td>\n",
       "      <td>1.590000</td>\n",
       "      <td>1.500000</td>\n",
       "      <td>1.810000</td>\n",
       "      <td>0.000000e+00</td>\n",
       "    </tr>\n",
       "    <tr>\n",
       "      <th>25%</th>\n",
       "      <td>31.270000</td>\n",
       "      <td>31.292776</td>\n",
       "      <td>30.940001</td>\n",
       "      <td>31.620001</td>\n",
       "      <td>1.221500e+06</td>\n",
       "    </tr>\n",
       "    <tr>\n",
       "      <th>50%</th>\n",
       "      <td>48.459999</td>\n",
       "      <td>48.480000</td>\n",
       "      <td>47.970001</td>\n",
       "      <td>48.959999</td>\n",
       "      <td>2.476250e+06</td>\n",
       "    </tr>\n",
       "    <tr>\n",
       "      <th>75%</th>\n",
       "      <td>75.120003</td>\n",
       "      <td>75.139999</td>\n",
       "      <td>74.400002</td>\n",
       "      <td>75.849998</td>\n",
       "      <td>5.222500e+06</td>\n",
       "    </tr>\n",
       "    <tr>\n",
       "      <th>max</th>\n",
       "      <td>1584.439941</td>\n",
       "      <td>1578.130005</td>\n",
       "      <td>1549.939941</td>\n",
       "      <td>1600.930054</td>\n",
       "      <td>8.596434e+08</td>\n",
       "    </tr>\n",
       "  </tbody>\n",
       "</table>\n",
       "</div>"
      ],
      "text/plain": [
       "                open          close            low           high  \\\n",
       "count  851264.000000  851264.000000  851264.000000  851264.000000   \n",
       "mean       64.993618      65.011913      64.336541      65.639748   \n",
       "std        75.203893      75.201216      74.459518      75.906861   \n",
       "min         1.660000       1.590000       1.500000       1.810000   \n",
       "25%        31.270000      31.292776      30.940001      31.620001   \n",
       "50%        48.459999      48.480000      47.970001      48.959999   \n",
       "75%        75.120003      75.139999      74.400002      75.849998   \n",
       "max      1584.439941    1578.130005    1549.939941    1600.930054   \n",
       "\n",
       "             volume  \n",
       "count  8.512640e+05  \n",
       "mean   5.415113e+06  \n",
       "std    1.249468e+07  \n",
       "min    0.000000e+00  \n",
       "25%    1.221500e+06  \n",
       "50%    2.476250e+06  \n",
       "75%    5.222500e+06  \n",
       "max    8.596434e+08  "
      ]
     },
     "execution_count": 4,
     "metadata": {},
     "output_type": "execute_result"
    }
   ],
   "source": [
    "df.describe()"
   ]
  },
  {
   "cell_type": "code",
   "execution_count": 5,
   "metadata": {
    "_cell_guid": "8e1e0b13-c1da-4fe1-b971-bb2ebcad453b",
    "_uuid": "ef59e62b988d2b0bfd00f834a7ecc17cb927dfc9"
   },
   "outputs": [
    {
     "name": "stdout",
     "output_type": "stream",
     "text": [
      "<class 'pandas.core.frame.DataFrame'>\n",
      "Index: 851264 entries, 2016-01-05 to 2016-12-30\n",
      "Data columns (total 6 columns):\n",
      " #   Column  Non-Null Count   Dtype  \n",
      "---  ------  --------------   -----  \n",
      " 0   symbol  851264 non-null  object \n",
      " 1   open    851264 non-null  float64\n",
      " 2   close   851264 non-null  float64\n",
      " 3   low     851264 non-null  float64\n",
      " 4   high    851264 non-null  float64\n",
      " 5   volume  851264 non-null  float64\n",
      "dtypes: float64(5), object(1)\n",
      "memory usage: 45.5+ MB\n"
     ]
    }
   ],
   "source": [
    "df.info()"
   ]
  },
  {
   "cell_type": "code",
   "execution_count": 6,
   "metadata": {
    "_cell_guid": "ce84999a-306f-4586-b8d6-dc3a0ab9ab67",
    "_uuid": "1235c99db35b562f09d6fb5721368bcab68e307d"
   },
   "outputs": [
    {
     "data": {
      "image/png": "[encoded data removed]",
      "text/plain": [
       "<Figure size 1500x500 with 2 Axes>"
      ]
     },
     "metadata": {},
     "output_type": "display_data"
    }
   ],
   "source": [
    "plt.figure(figsize=(15, 5));\n",
    "plt.subplot(1,2,1);\n",
    "plt.plot(df[df.symbol == 'EQIX'].open.values, color='red', label='open')\n",
    "plt.plot(df[df.symbol == 'EQIX'].close.values, color='green', label='close')\n",
    "plt.plot(df[df.symbol == 'EQIX'].low.values, color='blue', label='low')\n",
    "plt.plot(df[df.symbol == 'EQIX'].high.values, color='black', label='high')\n",
    "plt.title('stock price')\n",
    "plt.xlabel('time [days]')\n",
    "plt.ylabel('price')\n",
    "plt.legend(loc='best')\n",
    "#plt.show()\n",
    "\n",
    "plt.subplot(1,2,2);\n",
    "plt.plot(df[df.symbol == 'EQIX'].volume.values, color='black', label='volume')\n",
    "plt.title('stock volume')\n",
    "plt.xlabel('time [days]')\n",
    "plt.ylabel('volume')\n",
    "plt.legend(loc='best');"
   ]
  },
  {
   "cell_type": "markdown",
   "metadata": {
    "_cell_guid": "73ad0def-f162-42b9-a1d6-aac45be27e81",
    "_uuid": "777e047511205f929abf0867c7c8a2edee2531ca"
   },
   "source": [
    "# 3. Manipulate data <a class=\"anchor\" id=\"3-bullet\"></a> \n",
    "- choose a specific stock and drop feature volume\n",
    "- split train and test sets\n",
    "- normalize stock data\n",
    "- window sliding"
   ]
  },
  {
   "cell_type": "markdown",
   "metadata": {},
   "source": [
    "**choose a specific stock and drop feature volume**"
   ]
  },
  {
   "cell_type": "code",
   "execution_count": 7,
   "metadata": {},
   "outputs": [
    {
     "name": "stdout",
     "output_type": "stream",
     "text": [
      "df_stock.columns.values =  ['open', 'close', 'low', 'high']\n"
     ]
    }
   ],
   "source": [
    "# choose one stock\n",
    "df_stock = df[df.symbol == 'EQIX'].copy()\n",
    "df_stock.drop(['symbol'], axis=1, inplace=True)\n",
    "df_stock.drop(['volume'], axis=1, inplace=True)\n",
    "\n",
    "cols = list(df_stock.columns.values)\n",
    "print('df_stock.columns.values = ', cols)"
   ]
  },
  {
   "cell_type": "markdown",
   "metadata": {},
   "source": [
    "**split train and test sets**"
   ]
  },
  {
   "cell_type": "code",
   "execution_count": 8,
   "metadata": {},
   "outputs": [],
   "source": [
    "from sklearn.model_selection import train_test_split\n",
    "\n",
    "test_size = 0.2\n",
    "X_train, X_test, y_train, y_test = train_test_split(\n",
    "    df_stock, df_stock[['open']], test_size=test_size, random_state=42, shuffle=False)"
   ]
  },
  {
   "cell_type": "code",
   "execution_count": 9,
   "metadata": {},
   "outputs": [
    {
     "data": {
      "text/plain": [
       "(1409, 4)"
      ]
     },
     "execution_count": 9,
     "metadata": {},
     "output_type": "execute_result"
    }
   ],
   "source": [
    "X_train.shape"
   ]
  },
  {
   "cell_type": "code",
   "execution_count": 10,
   "metadata": {},
   "outputs": [
    {
     "data": {
      "text/plain": [
       "(353, 4)"
      ]
     },
     "execution_count": 10,
     "metadata": {},
     "output_type": "execute_result"
    }
   ],
   "source": [
    "X_test.shape"
   ]
  },
  {
   "cell_type": "code",
   "execution_count": 11,
   "metadata": {},
   "outputs": [
    {
     "data": {
      "text/plain": [
       "(1409, 1)"
      ]
     },
     "execution_count": 11,
     "metadata": {},
     "output_type": "execute_result"
    }
   ],
   "source": [
    "y_train.shape"
   ]
  },
  {
   "cell_type": "code",
   "execution_count": 12,
   "metadata": {},
   "outputs": [
    {
     "data": {
      "text/plain": [
       "(353, 1)"
      ]
     },
     "execution_count": 12,
     "metadata": {},
     "output_type": "execute_result"
    }
   ],
   "source": [
    "y_test.shape"
   ]
  },
  {
   "cell_type": "code",
   "execution_count": 13,
   "metadata": {},
   "outputs": [
    {
     "data": {
      "text/html": [
       "<div>\n",
       "<style scoped>\n",
       "    .dataframe tbody tr th:only-of-type {\n",
       "        vertical-align: middle;\n",
       "    }\n",
       "\n",
       "    .dataframe tbody tr th {\n",
       "        vertical-align: top;\n",
       "    }\n",
       "\n",
       "    .dataframe thead th {\n",
       "        text-align: right;\n",
       "    }\n",
       "</style>\n",
       "<table border=\"1\" class=\"dataframe\">\n",
       "  <thead>\n",
       "    <tr style=\"text-align: right;\">\n",
       "      <th></th>\n",
       "      <th>open</th>\n",
       "      <th>close</th>\n",
       "      <th>low</th>\n",
       "      <th>high</th>\n",
       "    </tr>\n",
       "    <tr>\n",
       "      <th>date</th>\n",
       "      <th></th>\n",
       "      <th></th>\n",
       "      <th></th>\n",
       "      <th></th>\n",
       "    </tr>\n",
       "  </thead>\n",
       "  <tbody>\n",
       "    <tr>\n",
       "      <th>2010-01-04</th>\n",
       "      <td>106.519997</td>\n",
       "      <td>109.559998</td>\n",
       "      <td>106.510002</td>\n",
       "      <td>109.620003</td>\n",
       "    </tr>\n",
       "    <tr>\n",
       "      <th>2010-01-05</th>\n",
       "      <td>109.589996</td>\n",
       "      <td>108.540001</td>\n",
       "      <td>108.379997</td>\n",
       "      <td>109.589996</td>\n",
       "    </tr>\n",
       "    <tr>\n",
       "      <th>2010-01-06</th>\n",
       "      <td>108.949997</td>\n",
       "      <td>109.529999</td>\n",
       "      <td>108.220001</td>\n",
       "      <td>110.570000</td>\n",
       "    </tr>\n",
       "    <tr>\n",
       "      <th>2010-01-07</th>\n",
       "      <td>109.250000</td>\n",
       "      <td>107.290001</td>\n",
       "      <td>106.639999</td>\n",
       "      <td>110.349998</td>\n",
       "    </tr>\n",
       "    <tr>\n",
       "      <th>2010-01-08</th>\n",
       "      <td>106.800003</td>\n",
       "      <td>106.769997</td>\n",
       "      <td>105.900002</td>\n",
       "      <td>107.279999</td>\n",
       "    </tr>\n",
       "  </tbody>\n",
       "</table>\n",
       "</div>"
      ],
      "text/plain": [
       "                  open       close         low        high\n",
       "date                                                      \n",
       "2010-01-04  106.519997  109.559998  106.510002  109.620003\n",
       "2010-01-05  109.589996  108.540001  108.379997  109.589996\n",
       "2010-01-06  108.949997  109.529999  108.220001  110.570000\n",
       "2010-01-07  109.250000  107.290001  106.639999  110.349998\n",
       "2010-01-08  106.800003  106.769997  105.900002  107.279999"
      ]
     },
     "execution_count": 13,
     "metadata": {},
     "output_type": "execute_result"
    }
   ],
   "source": [
    "X_train.head()"
   ]
  },
  {
   "cell_type": "markdown",
   "metadata": {},
   "source": [
    "**normalize data**"
   ]
  },
  {
   "cell_type": "code",
   "execution_count": 14,
   "metadata": {},
   "outputs": [],
   "source": [
    "from sklearn.preprocessing import MinMaxScaler\n",
    "\n",
    "# function for min-max normalization of stock\n",
    "def normalize_data(data):\n",
    "    # instantiate scalers\n",
    "    sc = MinMaxScaler(feature_range=(-1, 1))\n",
    "    data_scaled = sc.fit_transform(data)\n",
    "\n",
    "    return data_scaled, sc"
   ]
  },
  {
   "cell_type": "code",
   "execution_count": 15,
   "metadata": {},
   "outputs": [],
   "source": [
    "X_train_norm, _ = normalize_data(X_train)\n",
    "y_train_norm, _ = normalize_data(y_train)"
   ]
  },
  {
   "cell_type": "code",
   "execution_count": 16,
   "metadata": {},
   "outputs": [
    {
     "data": {
      "text/plain": [
       "(1409, 4)"
      ]
     },
     "execution_count": 16,
     "metadata": {},
     "output_type": "execute_result"
    }
   ],
   "source": [
    "X_train_norm.shape"
   ]
  },
  {
   "cell_type": "code",
   "execution_count": 17,
   "metadata": {},
   "outputs": [
    {
     "data": {
      "image/png": "[encoded data removed]",
      "text/plain": [
       "<Figure size 1500x500 with 1 Axes>"
      ]
     },
     "metadata": {},
     "output_type": "display_data"
    }
   ],
   "source": [
    "plt.figure(figsize=(15, 5));\n",
    "plt.plot(X_train_norm[:, 0], color='red', label='open')\n",
    "plt.plot(X_train_norm[:, 1], color='green', label='close')\n",
    "plt.plot(X_train_norm[:, 2], color='blue', label='low')\n",
    "plt.plot(X_train_norm[:, 3], color='black', label='high')\n",
    "plt.plot(y_train_norm, color='yellow', label='label open')\n",
    "#plt.plot(df_stock_norm.volume.values, color='gray', label='volume')\n",
    "plt.title('stock')\n",
    "plt.xlabel('time [days]')\n",
    "plt.ylabel('normalized price/volume')\n",
    "plt.legend(loc='best')\n",
    "plt.show()"
   ]
  },
  {
   "cell_type": "markdown",
   "metadata": {},
   "source": [
    "**window sliding**"
   ]
  },
  {
   "cell_type": "code",
   "execution_count": 18,
   "metadata": {},
   "outputs": [],
   "source": [
    "# convert train_norm to a tensor\n",
    "X_train_norm = torch.FloatTensor(X_train_norm).view((-1, 4))\n",
    "y_train_norm = torch.FloatTensor(y_train_norm).view(-1)"
   ]
  },
  {
   "cell_type": "code",
   "execution_count": 19,
   "metadata": {},
   "outputs": [
    {
     "data": {
      "text/plain": [
       "torch.Size([1409, 4])"
      ]
     },
     "execution_count": 19,
     "metadata": {},
     "output_type": "execute_result"
    }
   ],
   "source": [
    "X_train_norm.shape"
   ]
  },
  {
   "cell_type": "code",
   "execution_count": 20,
   "metadata": {},
   "outputs": [],
   "source": [
    "# define a function to create sequence/label tuples\n",
    "def input_data(dataX,datay,ws):\n",
    "    out = []\n",
    "    L = len(dataX)\n",
    "    for i in range(L-ws):\n",
    "        window = dataX[i:i+ws]\n",
    "        label = datay[i+ws:i+ws+1]\n",
    "        out.append((window,label))\n",
    "    return out"
   ]
  },
  {
   "cell_type": "code",
   "execution_count": 21,
   "metadata": {},
   "outputs": [],
   "source": [
    "# define a window size\n",
    "window_size = 20\n",
    "# apply X_train_norm and y_train_norm to get window sliding results\n",
    "train = input_data(X_train_norm, y_train_norm, window_size)"
   ]
  },
  {
   "cell_type": "code",
   "execution_count": 22,
   "metadata": {},
   "outputs": [
    {
     "data": {
      "text/plain": [
       "1389"
      ]
     },
     "execution_count": 22,
     "metadata": {},
     "output_type": "execute_result"
    }
   ],
   "source": [
    "len(train)"
   ]
  },
  {
   "cell_type": "code",
   "execution_count": 23,
   "metadata": {},
   "outputs": [
    {
     "data": {
      "text/plain": [
       "(tensor([[-0.6719, -0.6310, -0.6478, -0.6713],\n",
       "         [-0.6429, -0.6406, -0.6301, -0.6716],\n",
       "         [-0.6489, -0.6312, -0.6316, -0.6624],\n",
       "         [-0.6461, -0.6523, -0.6466, -0.6644],\n",
       "         [-0.6692, -0.6572, -0.6536, -0.6932],\n",
       "         [-0.6676, -0.6489, -0.6460, -0.6850],\n",
       "         [-0.6711, -0.6900, -0.6815, -0.6897],\n",
       "         [-0.7122, -0.6919, -0.6883, -0.7205],\n",
       "         [-0.7021, -0.6821, -0.6781, -0.7167],\n",
       "         [-0.6921, -0.7011, -0.6949, -0.7194],\n",
       "         [-0.7080, -0.6839, -0.6945, -0.7224],\n",
       "         [-0.7065, -0.6884, -0.6909, -0.7236],\n",
       "         [-0.7033, -0.6892, -0.6800, -0.7027],\n",
       "         [-0.7032, -0.7301, -0.7223, -0.7215],\n",
       "         [-0.7357, -0.7201, -0.7182, -0.7510],\n",
       "         [-0.7391, -0.7260, -0.7213, -0.7596],\n",
       "         [-0.7438, -0.7280, -0.7303, -0.7653],\n",
       "         [-0.7412, -0.7420, -0.7490, -0.7691],\n",
       "         [-0.7511, -0.7564, -0.7476, -0.7641],\n",
       "         [-0.7646, -0.7600, -0.7543, -0.7818]]),\n",
       " tensor([-0.7720]))"
      ]
     },
     "execution_count": 23,
     "metadata": {},
     "output_type": "execute_result"
    }
   ],
   "source": [
    "train[0]"
   ]
  },
  {
   "cell_type": "code",
   "execution_count": 24,
   "metadata": {},
   "outputs": [
    {
     "name": "stdout",
     "output_type": "stream",
     "text": [
      "intput shape: torch.Size([20, 4])\n",
      "label shape: torch.Size([1])\n"
     ]
    }
   ],
   "source": [
    "print(f\"intput shape: {train[0][0].shape}\")\n",
    "print(f\"label shape: {train[0][1].shape}\")"
   ]
  },
  {
   "cell_type": "markdown",
   "metadata": {
    "_cell_guid": "4375362b-7a7c-4572-947c-91f46c4fd77c",
    "_uuid": "a495f69f3a265f419cd5aa0a4119a8b0392365fd"
   },
   "source": [
    "# 4. Model and validate data <a class=\"anchor\" id=\"4-bullet\"></a> "
   ]
  },
  {
   "cell_type": "code",
   "execution_count": 25,
   "metadata": {},
   "outputs": [],
   "source": [
    "# import keras\n",
    "# from keras.models import Sequential\n",
    "# from keras.layers import Dense, LSTM, Dropout"
   ]
  },
  {
   "cell_type": "code",
   "execution_count": 26,
   "metadata": {},
   "outputs": [],
   "source": [
    "# print(keras.__version__)"
   ]
  },
  {
   "cell_type": "code",
   "execution_count": 27,
   "metadata": {
    "_cell_guid": "dde96de3-fef3-45cf-959c-22171a28a3b6",
    "_uuid": "b5015613883c52563da5f8e5be8d6adeb274e420"
   },
   "outputs": [],
   "source": [
    "# # reference: https://medium.com/mlearning-ai/multivariate-time-series-forecasting-using-rnn-lstm-8d840f3f9aa7\n",
    "# model = Sequential()\n",
    "# model.add(LSTM(units=50, return_sequences=True, input_shape=(20, 4)))\n",
    "# model.add(Dropout(0.2))\n",
    "# model.add(LSTM(units=50))\n",
    "# model.add(Dropout(0.2))\n",
    "# model.add(Dense(1))"
   ]
  },
  {
   "cell_type": "code",
   "execution_count": 28,
   "metadata": {},
   "outputs": [],
   "source": [
    "# epoch = 100\n",
    "# batch = 32\n",
    "# lr = 1e-3\n",
    "# model.compile(optimizer=keras.optimizers.Adam(learning_rate=lr),\n",
    "#               loss=keras.losses.MeanSquaredError())\n",
    "# model.fit(X_train_shape, y_train, epochs=epoch, batch_size=batch)"
   ]
  },
  {
   "cell_type": "code",
   "execution_count": 29,
   "metadata": {},
   "outputs": [],
   "source": [
    "class LSTMnetwork(nn.Module):\n",
    "    def __init__(self,input_size=4,hidden_size=100,\n",
    "                 output_size=1,num_layers=2,dropout=0.2,batch_size=1):\n",
    "        super().__init__()\n",
    "        self.hidden_size = hidden_size\n",
    "        self.batch_size = batch_size\n",
    "        \n",
    "        # add an LSTM layer:\n",
    "        self.lstm = nn.LSTM(input_size,hidden_size, \n",
    "                            num_layers=num_layers, dropout=dropout)\n",
    "        \n",
    "        # add a fully-connected layer:\n",
    "        self.linear = nn.Linear(hidden_size,output_size)\n",
    "        \n",
    "        # initializing h0 and c0:\n",
    "        self.hidden = (torch.zeros(num_layers,self.batch_size,self.hidden_size),\n",
    "                       torch.zeros(num_layers,self.batch_size,self.hidden_size))\n",
    "\n",
    "    def forward(self,seq):\n",
    "        lstm_out, self.hidden = self.lstm(\n",
    "            seq.view(len(seq),self.batch_size,-1), self.hidden)\n",
    "        pred = self.linear(lstm_out.view(len(seq),-1))\n",
    "        return pred[-1]"
   ]
  },
  {
   "cell_type": "markdown",
   "metadata": {},
   "source": [
    "**instantiation, loss, and optimizer**"
   ]
  },
  {
   "cell_type": "code",
   "execution_count": 30,
   "metadata": {},
   "outputs": [
    {
     "data": {
      "text/plain": [
       "LSTMnetwork(\n",
       "  (lstm): LSTM(4, 10, num_layers=2, dropout=0.2)\n",
       "  (linear): Linear(in_features=10, out_features=1, bias=True)\n",
       ")"
      ]
     },
     "execution_count": 30,
     "metadata": {},
     "output_type": "execute_result"
    }
   ],
   "source": [
    "torch.manual_seed(42)\n",
    "\n",
    "# instantiate\n",
    "input_size = 4\n",
    "hidden_size = 10\n",
    "output_size = 1\n",
    "num_layers = 2\n",
    "dropout = 0.2\n",
    "batch_size = 1\n",
    "\n",
    "model = LSTMnetwork(input_size=input_size,hidden_size=hidden_size,\n",
    "                     output_size=output_size,num_layers=num_layers,\n",
    "                     dropout=dropout,batch_size=batch_size)\n",
    "\n",
    "# loss\n",
    "criterion = nn.MSELoss()\n",
    "\n",
    "#optimizer\n",
    "learning_rate = 1e-3\n",
    "optimizer = torch.optim.Adam(model.parameters(), lr=learning_rate)\n",
    "\n",
    "model"
   ]
  },
  {
   "cell_type": "markdown",
   "metadata": {},
   "source": [
    "**training**"
   ]
  },
  {
   "cell_type": "code",
   "execution_count": 31,
   "metadata": {},
   "outputs": [
    {
     "name": "stdout",
     "output_type": "stream",
     "text": [
      "Epoch:  1 Loss: 0.01163682\n",
      "Epoch:  2 Loss: 0.00116765\n",
      "Epoch:  3 Loss: 0.00074501\n",
      "Epoch:  4 Loss: 0.00446599\n",
      "Epoch:  5 Loss: 0.00297245\n",
      "Epoch:  6 Loss: 0.00067429\n",
      "Epoch:  7 Loss: 0.00140712\n",
      "Epoch:  8 Loss: 0.00053538\n",
      "Epoch:  9 Loss: 0.00235886\n",
      "Epoch: 10 Loss: 0.00039951\n",
      "Epoch: 11 Loss: 0.00026611\n",
      "Epoch: 12 Loss: 0.00000493\n",
      "Epoch: 13 Loss: 0.00008902\n",
      "Epoch: 14 Loss: 0.00052716\n",
      "Epoch: 15 Loss: 0.00032155\n",
      "Epoch: 16 Loss: 0.00039732\n",
      "Epoch: 17 Loss: 0.00065295\n",
      "Epoch: 18 Loss: 0.00010408\n",
      "Epoch: 19 Loss: 0.00018024\n",
      "Epoch: 20 Loss: 0.00003840\n",
      "Epoch: 21 Loss: 0.00236485\n",
      "Epoch: 22 Loss: 0.00006836\n",
      "Epoch: 23 Loss: 0.00045709\n",
      "Epoch: 24 Loss: 0.00028508\n",
      "Epoch: 25 Loss: 0.00002726\n",
      "Epoch: 26 Loss: 0.00073544\n",
      "Epoch: 27 Loss: 0.00002082\n",
      "Epoch: 28 Loss: 0.00000059\n",
      "Epoch: 29 Loss: 0.00002858\n",
      "Epoch: 30 Loss: 0.00033602\n",
      "Epoch: 31 Loss: 0.00000714\n",
      "Epoch: 32 Loss: 0.00075419\n",
      "Epoch: 33 Loss: 0.00258890\n",
      "Epoch: 34 Loss: 0.00026331\n",
      "Epoch: 35 Loss: 0.00061655\n",
      "Epoch: 36 Loss: 0.00001434\n",
      "Epoch: 37 Loss: 0.00021226\n",
      "Epoch: 38 Loss: 0.00017537\n",
      "Epoch: 39 Loss: 0.00113915\n",
      "Epoch: 40 Loss: 0.00174185\n",
      "Epoch: 41 Loss: 0.00006960\n",
      "Epoch: 42 Loss: 0.00097733\n",
      "Epoch: 43 Loss: 0.00081679\n",
      "Epoch: 44 Loss: 0.00015644\n",
      "Epoch: 45 Loss: 0.00000482\n",
      "Epoch: 46 Loss: 0.00278516\n",
      "Epoch: 47 Loss: 0.00258876\n",
      "Epoch: 48 Loss: 0.00106605\n",
      "Epoch: 49 Loss: 0.00206817\n",
      "Epoch: 50 Loss: 0.00043519\n",
      "\n",
      "Duration: 102 seconds\n"
     ]
    }
   ],
   "source": [
    "epochs = 50\n",
    "\n",
    "import time\n",
    "start_time = time.time()\n",
    "\n",
    "loss_list = []\n",
    "for epoch in range(epochs):\n",
    "    for seq, y_train in train:\n",
    "        optimizer.zero_grad()\n",
    "        model.hidden = (torch.zeros(num_layers, batch_size, model.hidden_size),\n",
    "                        torch.zeros(num_layers, batch_size, model.hidden_size))\n",
    "        \n",
    "        y_pred = model(seq)\n",
    "        \n",
    "        loss = criterion(y_pred, y_train)\n",
    "        loss.backward()\n",
    "        optimizer.step()\n",
    "        \n",
    "    print(f'Epoch: {epoch+1:2} Loss: {loss.item():10.8f}')\n",
    "    loss_list.append(loss.item())\n",
    "print(f'\\nDuration: {time.time() - start_time:.0f} seconds')"
   ]
  },
  {
   "cell_type": "code",
   "execution_count": 32,
   "metadata": {},
   "outputs": [
    {
     "data": {
      "image/png": "[encoded data removed]",
      "text/plain": [
       "<Figure size 640x480 with 1 Axes>"
      ]
     },
     "metadata": {},
     "output_type": "display_data"
    }
   ],
   "source": [
    "# visualization loss \n",
    "plt.plot(list(range(len(loss_list))),loss_list)\n",
    "plt.xlabel(\"Number of epoch\")\n",
    "plt.ylabel(\"Loss\")\n",
    "plt.title(\"LSTM Loss Curve\")\n",
    "plt.show()"
   ]
  },
  {
   "cell_type": "markdown",
   "metadata": {
    "_cell_guid": "9035de79-0f5c-4b6b-bc86-0d8d4e2f392e",
    "_uuid": "a88583a9effb6f1f84e13b8853adca62578c2992"
   },
   "source": [
    "# 5. Predictions <a class=\"anchor\" id=\"5-bullet\"></a> "
   ]
  },
  {
   "cell_type": "markdown",
   "metadata": {},
   "source": [
    "**test set normalization**"
   ]
  },
  {
   "cell_type": "code",
   "execution_count": 33,
   "metadata": {},
   "outputs": [],
   "source": [
    "X_test_norm, scaler_X_test = normalize_data(X_test)\n",
    "y_test_norm, scaler_y_test = normalize_data(y_test)"
   ]
  },
  {
   "cell_type": "markdown",
   "metadata": {},
   "source": [
    "**test set window sliding**"
   ]
  },
  {
   "cell_type": "code",
   "execution_count": 34,
   "metadata": {},
   "outputs": [],
   "source": [
    "# convert train_norm to a tensor\n",
    "X_test_norm = torch.FloatTensor(X_test_norm).view((-1, 4))\n",
    "y_test_norm = torch.FloatTensor(y_test_norm).view(-1)"
   ]
  },
  {
   "cell_type": "code",
   "execution_count": 35,
   "metadata": {},
   "outputs": [],
   "source": [
    "# apply X_train_norm and y_train_norm to get window sliding results\n",
    "test = input_data(X_test_norm, y_test_norm, window_size)"
   ]
  },
  {
   "cell_type": "markdown",
   "metadata": {},
   "source": [
    "**test set prediction**"
   ]
  },
  {
   "cell_type": "code",
   "execution_count": 36,
   "metadata": {},
   "outputs": [],
   "source": [
    "testset_size = len(test)\n",
    "\n",
    "preds = []\n",
    "\n",
    "model.eval()\n",
    "\n",
    "for i in range(testset_size):\n",
    "    seq = test[i][0]\n",
    "    with torch.no_grad():\n",
    "        model.hidden = (torch.zeros(num_layers,1,model.hidden_size),\n",
    "                        torch.zeros(num_layers,1,model.hidden_size))\n",
    "        preds.append(model(seq).item())"
   ]
  },
  {
   "cell_type": "code",
   "execution_count": 37,
   "metadata": {},
   "outputs": [
    {
     "data": {
      "text/plain": [
       "333"
      ]
     },
     "execution_count": 37,
     "metadata": {},
     "output_type": "execute_result"
    }
   ],
   "source": [
    "len(preds)"
   ]
  },
  {
   "cell_type": "code",
   "execution_count": 38,
   "metadata": {},
   "outputs": [
    {
     "data": {
      "text/plain": [
       "333"
      ]
     },
     "execution_count": 38,
     "metadata": {},
     "output_type": "execute_result"
    }
   ],
   "source": [
    "len(y_test_norm[window_size:])"
   ]
  },
  {
   "cell_type": "markdown",
   "metadata": {
    "_cell_guid": "412b33a3-1e02-4ed5-9846-9984022492bd",
    "_uuid": "2923055320991790fe0c8c0ffa3e75558e5c313a"
   },
   "source": [
    "**inverting the normalized values**"
   ]
  },
  {
   "cell_type": "code",
   "execution_count": 39,
   "metadata": {},
   "outputs": [
    {
     "data": {
      "text/plain": [
       "array([[285.68242961],\n",
       "       [286.64628372],\n",
       "       [288.21678552],\n",
       "       [289.17853902],\n",
       "       [290.75608776],\n",
       "       [292.56939608],\n",
       "       [293.99409982],\n",
       "       [294.80046381],\n",
       "       [296.44680153],\n",
       "       [295.44814866],\n",
       "       [297.51199214],\n",
       "       [296.63383492],\n",
       "       [296.62166724],\n",
       "       [294.13745641],\n",
       "       [292.68606306],\n",
       "       [290.13039192],\n",
       "       [287.9300327 ],\n",
       "       [287.70698775],\n",
       "       [288.30834825],\n",
       "       [288.45992496],\n",
       "       [290.31696555],\n",
       "       [287.89609797],\n",
       "       [286.25629988],\n",
       "       [285.76233198],\n",
       "       [285.96068487],\n",
       "       [286.36207541],\n",
       "       [286.20644016],\n",
       "       [286.44681314],\n",
       "       [287.39086605],\n",
       "       [289.48113756],\n",
       "       [292.04589283],\n",
       "       [294.71659803],\n",
       "       [296.71949216],\n",
       "       [298.86487887],\n",
       "       [300.4270258 ],\n",
       "       [304.97162401],\n",
       "       [303.72085854],\n",
       "       [302.66743926],\n",
       "       [302.02937757],\n",
       "       [303.47859898],\n",
       "       [309.11985333],\n",
       "       [307.06897417],\n",
       "       [305.50417969],\n",
       "       [304.10782226],\n",
       "       [301.81747774],\n",
       "       [301.29660621],\n",
       "       [304.1936539 ],\n",
       "       [305.81866053],\n",
       "       [304.42805798],\n",
       "       [302.05856414],\n",
       "       [303.0185024 ],\n",
       "       [306.1303115 ],\n",
       "       [302.73741725],\n",
       "       [297.97365824],\n",
       "       [303.74062011],\n",
       "       [305.17199824],\n",
       "       [303.29846986],\n",
       "       [303.42219964],\n",
       "       [305.06233857],\n",
       "       [304.67625474],\n",
       "       [307.42933547],\n",
       "       [308.16247147],\n",
       "       [305.35036761],\n",
       "       [307.40831354],\n",
       "       [307.05171748],\n",
       "       [306.90324016],\n",
       "       [306.74835004],\n",
       "       [305.48433092],\n",
       "       [301.66373701],\n",
       "       [303.32488203],\n",
       "       [301.54956698],\n",
       "       [303.18000349],\n",
       "       [303.03109812],\n",
       "       [300.87420166],\n",
       "       [302.80181476],\n",
       "       [304.31667819],\n",
       "       [304.58224261],\n",
       "       [305.31290545],\n",
       "       [307.4533696 ],\n",
       "       [311.30671714],\n",
       "       [310.56689486],\n",
       "       [310.27831491],\n",
       "       [306.28130956],\n",
       "       [310.03597212],\n",
       "       [314.01860218],\n",
       "       [311.41426035],\n",
       "       [317.04042996],\n",
       "       [320.1553662 ],\n",
       "       [320.78296844],\n",
       "       [316.56819741],\n",
       "       [317.89053812],\n",
       "       [313.52024678],\n",
       "       [309.34257724],\n",
       "       [304.3295355 ],\n",
       "       [302.1621043 ],\n",
       "       [306.24744617],\n",
       "       [308.90594405],\n",
       "       [311.22986659],\n",
       "       [309.97735326],\n",
       "       [310.58205491],\n",
       "       [315.91780951],\n",
       "       [318.73049599],\n",
       "       [318.95751624],\n",
       "       [317.8249397 ],\n",
       "       [318.02486606],\n",
       "       [307.05419065],\n",
       "       [295.09014956],\n",
       "       [288.99460502],\n",
       "       [288.74367351],\n",
       "       [288.83763807],\n",
       "       [291.05165521],\n",
       "       [295.08391115],\n",
       "       [296.15789261],\n",
       "       [296.45996005],\n",
       "       [301.90158133],\n",
       "       [305.2701006 ],\n",
       "       [302.07082693],\n",
       "       [301.60244682],\n",
       "       [311.44943166],\n",
       "       [312.83189337],\n",
       "       [311.26007968],\n",
       "       [313.85041085],\n",
       "       [311.22984281],\n",
       "       [315.41291052],\n",
       "       [315.13038666],\n",
       "       [309.03796529],\n",
       "       [308.58298547],\n",
       "       [310.67225027],\n",
       "       [314.17592583],\n",
       "       [323.37126242],\n",
       "       [319.84511431],\n",
       "       [320.90451438],\n",
       "       [323.83350717],\n",
       "       [325.62076795],\n",
       "       [324.50966121],\n",
       "       [325.52572534],\n",
       "       [327.58248224],\n",
       "       [328.39705446],\n",
       "       [329.85474567],\n",
       "       [332.37325587],\n",
       "       [336.12387178],\n",
       "       [336.65238874],\n",
       "       [337.79622929],\n",
       "       [337.78743845],\n",
       "       [340.85708875],\n",
       "       [337.73190313],\n",
       "       [336.71488778],\n",
       "       [335.4979421 ],\n",
       "       [336.97462995],\n",
       "       [335.46600493],\n",
       "       [333.84982481],\n",
       "       [332.26671936],\n",
       "       [332.1587164 ],\n",
       "       [334.75209147],\n",
       "       [335.49826313],\n",
       "       [335.39955437],\n",
       "       [335.30166207],\n",
       "       [332.68663092],\n",
       "       [331.95446992],\n",
       "       [336.31207041],\n",
       "       [339.69045462],\n",
       "       [340.15049175],\n",
       "       [338.58185275],\n",
       "       [338.803673  ],\n",
       "       [342.217177  ],\n",
       "       [340.96658592],\n",
       "       [343.30396028],\n",
       "       [340.60460358],\n",
       "       [343.88801256],\n",
       "       [348.97568534],\n",
       "       [348.98909752],\n",
       "       [348.26823819],\n",
       "       [352.11803649],\n",
       "       [351.55101896],\n",
       "       [353.79022754],\n",
       "       [349.30720489],\n",
       "       [347.54270995],\n",
       "       [348.88837733],\n",
       "       [350.44450978],\n",
       "       [349.88710351],\n",
       "       [357.48294198],\n",
       "       [360.31806137],\n",
       "       [364.38653496],\n",
       "       [367.81732339],\n",
       "       [366.13974607],\n",
       "       [368.37783697],\n",
       "       [369.36200753],\n",
       "       [368.89411491],\n",
       "       [372.09510474],\n",
       "       [373.7703714 ],\n",
       "       [375.57804374],\n",
       "       [376.63379747],\n",
       "       [376.41261137],\n",
       "       [377.94510009],\n",
       "       [376.76331383],\n",
       "       [379.66125726],\n",
       "       [381.13524603],\n",
       "       [381.06555736],\n",
       "       [382.30086156],\n",
       "       [383.55258618],\n",
       "       [384.46952935],\n",
       "       [385.51453035],\n",
       "       [382.23434759],\n",
       "       [381.97651182],\n",
       "       [383.40640763],\n",
       "       [385.8959651 ],\n",
       "       [385.97533242],\n",
       "       [386.85590336],\n",
       "       [386.25498281],\n",
       "       [386.81580553],\n",
       "       [385.82090205],\n",
       "       [387.65523626],\n",
       "       [386.66604406],\n",
       "       [387.38887916],\n",
       "       [386.74149553],\n",
       "       [386.78452629],\n",
       "       [384.51310309],\n",
       "       [385.89786358],\n",
       "       [384.3488831 ],\n",
       "       [385.54463246],\n",
       "       [380.70014668],\n",
       "       [384.76527119],\n",
       "       [381.14066005],\n",
       "       [384.18874146],\n",
       "       [380.59247268],\n",
       "       [384.94022013],\n",
       "       [379.95921068],\n",
       "       [384.73402365],\n",
       "       [379.64939081],\n",
       "       [382.19901378],\n",
       "       [379.34327672],\n",
       "       [379.37015261],\n",
       "       [375.35280703],\n",
       "       [379.10925709],\n",
       "       [377.27938964],\n",
       "       [378.01560918],\n",
       "       [378.41756252],\n",
       "       [379.87811928],\n",
       "       [377.48970411],\n",
       "       [377.52236262],\n",
       "       [376.32241601],\n",
       "       [376.74064312],\n",
       "       [377.10099649],\n",
       "       [378.08987558],\n",
       "       [375.87196637],\n",
       "       [375.89728861],\n",
       "       [375.84524505],\n",
       "       [377.7792115 ],\n",
       "       [376.70933217],\n",
       "       [378.41978995],\n",
       "       [376.37696445],\n",
       "       [379.83811261],\n",
       "       [381.73358244],\n",
       "       [382.61774424],\n",
       "       [381.28901846],\n",
       "       [376.06299488],\n",
       "       [378.42219178],\n",
       "       [370.05963929],\n",
       "       [370.87206334],\n",
       "       [371.83211258],\n",
       "       [370.01559786],\n",
       "       [375.09501089],\n",
       "       [366.36204589],\n",
       "       [366.82453241],\n",
       "       [369.95649943],\n",
       "       [367.6650729 ],\n",
       "       [370.18819651],\n",
       "       [370.03373443],\n",
       "       [369.96776345],\n",
       "       [367.46018831],\n",
       "       [367.89970686],\n",
       "       [362.91941083],\n",
       "       [359.74415543],\n",
       "       [353.67574242],\n",
       "       [356.57882837],\n",
       "       [355.08813383],\n",
       "       [359.40921149],\n",
       "       [356.21381997],\n",
       "       [361.72843738],\n",
       "       [362.337693  ],\n",
       "       [365.29821869],\n",
       "       [363.79827354],\n",
       "       [368.58353406],\n",
       "       [368.76907324],\n",
       "       [370.7693436 ],\n",
       "       [371.59161673],\n",
       "       [374.76974164],\n",
       "       [374.79844467],\n",
       "       [374.82174953],\n",
       "       [362.32871983],\n",
       "       [364.18063574],\n",
       "       [363.49749024],\n",
       "       [357.18094588],\n",
       "       [353.08610371],\n",
       "       [346.93062843],\n",
       "       [344.8759325 ],\n",
       "       [353.88763829],\n",
       "       [359.0980282 ],\n",
       "       [351.14225648],\n",
       "       [337.25186265],\n",
       "       [332.72639583],\n",
       "       [334.99295591],\n",
       "       [344.95058336],\n",
       "       [342.47847877],\n",
       "       [340.43075647],\n",
       "       [341.97692688],\n",
       "       [344.63633635],\n",
       "       [350.32477314],\n",
       "       [346.69520773],\n",
       "       [346.84479283],\n",
       "       [348.85570098],\n",
       "       [350.65198446],\n",
       "       [346.19529075],\n",
       "       [338.30624505],\n",
       "       [339.42962647],\n",
       "       [341.77228009],\n",
       "       [342.44746706],\n",
       "       [345.33008397],\n",
       "       [352.78732392],\n",
       "       [353.62921395],\n",
       "       [360.38103998],\n",
       "       [365.72883146],\n",
       "       [360.68943303],\n",
       "       [357.17282485],\n",
       "       [356.77296419],\n",
       "       [358.58387068],\n",
       "       [358.95716459],\n",
       "       [355.74311135],\n",
       "       [354.84919164],\n",
       "       [359.20137019],\n",
       "       [359.7039704 ],\n",
       "       [358.5967161 ],\n",
       "       [359.88393702]])"
      ]
     },
     "execution_count": 39,
     "metadata": {},
     "output_type": "execute_result"
    }
   ],
   "source": [
    "true_predictions = scaler_y_test.inverse_transform(np.array(preds).reshape(-1, 1))\n",
    "true_predictions"
   ]
  },
  {
   "cell_type": "code",
   "execution_count": 40,
   "metadata": {},
   "outputs": [
    {
     "data": {
      "text/html": [
       "<div>\n",
       "<style scoped>\n",
       "    .dataframe tbody tr th:only-of-type {\n",
       "        vertical-align: middle;\n",
       "    }\n",
       "\n",
       "    .dataframe tbody tr th {\n",
       "        vertical-align: top;\n",
       "    }\n",
       "\n",
       "    .dataframe thead th {\n",
       "        text-align: right;\n",
       "    }\n",
       "</style>\n",
       "<table border=\"1\" class=\"dataframe\">\n",
       "  <thead>\n",
       "    <tr style=\"text-align: right;\">\n",
       "      <th></th>\n",
       "      <th>open</th>\n",
       "    </tr>\n",
       "    <tr>\n",
       "      <th>date</th>\n",
       "      <th></th>\n",
       "    </tr>\n",
       "  </thead>\n",
       "  <tbody>\n",
       "    <tr>\n",
       "      <th>2015-08-10</th>\n",
       "      <td>282.890015</td>\n",
       "    </tr>\n",
       "    <tr>\n",
       "      <th>2015-08-11</th>\n",
       "      <td>278.429993</td>\n",
       "    </tr>\n",
       "    <tr>\n",
       "      <th>2015-08-12</th>\n",
       "      <td>277.440002</td>\n",
       "    </tr>\n",
       "    <tr>\n",
       "      <th>2015-08-13</th>\n",
       "      <td>283.970001</td>\n",
       "    </tr>\n",
       "    <tr>\n",
       "      <th>2015-08-14</th>\n",
       "      <td>285.109985</td>\n",
       "    </tr>\n",
       "    <tr>\n",
       "      <th>...</th>\n",
       "      <td>...</td>\n",
       "    </tr>\n",
       "    <tr>\n",
       "      <th>2016-12-23</th>\n",
       "      <td>352.100006</td>\n",
       "    </tr>\n",
       "    <tr>\n",
       "      <th>2016-12-27</th>\n",
       "      <td>356.779999</td>\n",
       "    </tr>\n",
       "    <tr>\n",
       "      <th>2016-12-28</th>\n",
       "      <td>357.220001</td>\n",
       "    </tr>\n",
       "    <tr>\n",
       "      <th>2016-12-29</th>\n",
       "      <td>353.420013</td>\n",
       "    </tr>\n",
       "    <tr>\n",
       "      <th>2016-12-30</th>\n",
       "      <td>358.149994</td>\n",
       "    </tr>\n",
       "  </tbody>\n",
       "</table>\n",
       "<p>353 rows × 1 columns</p>\n",
       "</div>"
      ],
      "text/plain": [
       "                  open\n",
       "date                  \n",
       "2015-08-10  282.890015\n",
       "2015-08-11  278.429993\n",
       "2015-08-12  277.440002\n",
       "2015-08-13  283.970001\n",
       "2015-08-14  285.109985\n",
       "...                ...\n",
       "2016-12-23  352.100006\n",
       "2016-12-27  356.779999\n",
       "2016-12-28  357.220001\n",
       "2016-12-29  353.420013\n",
       "2016-12-30  358.149994\n",
       "\n",
       "[353 rows x 1 columns]"
      ]
     },
     "execution_count": 40,
     "metadata": {},
     "output_type": "execute_result"
    }
   ],
   "source": [
    "y_test"
   ]
  },
  {
   "cell_type": "markdown",
   "metadata": {},
   "source": [
    "**plotting**"
   ]
  },
  {
   "cell_type": "code",
   "execution_count": 43,
   "metadata": {},
   "outputs": [
    {
     "data": {
      "image/png": "[encoded data removed]",
      "text/plain": [
       "<Figure size 1200x400 with 1 Axes>"
      ]
     },
     "metadata": {},
     "output_type": "display_data"
    }
   ],
   "source": [
    "fig = plt.figure(figsize=(12,4))\n",
    "x = list(X_test.index)\n",
    "plt.title('Stock Open Price')\n",
    "plt.ylabel('$')\n",
    "plt.grid(True)\n",
    "plt.autoscale(axis='x',tight=True)\n",
    "# fig.autofmt_xdate()\n",
    "\n",
    "predict = np.vstack((np.zeros(window_size).reshape(-1, 1), true_predictions))\n",
    "plt.plot(x, list(X_test.iloc[:, 0]), color='#8000ff')\n",
    "plt.plot(x, predict, color='#ff8000')\n",
    "plt.show()"
   ]
  },
  {
   "cell_type": "code",
   "execution_count": null,
   "metadata": {},
   "outputs": [],
   "source": []
  }
 ],
 "metadata": {
  "kaggle": {
   "accelerator": "none",
   "dataSources": [
    {
     "datasetId": 854,
     "sourceId": 1575,
     "sourceType": "datasetVersion"
    }
   ],
   "dockerImageVersionId": 46,
   "isGpuEnabled": false,
   "isInternetEnabled": false,
   "language": "python",
   "sourceType": "notebook"
  },
  "kernelspec": {
   "display_name": "Python 3 (ipykernel)",
   "language": "python",
   "name": "python3"
  },
  "language_info": {
   "codemirror_mode": {
    "name": "ipython",
    "version": 3
   },
   "file_extension": ".py",
   "mimetype": "text/x-python",
   "name": "python",
   "nbconvert_exporter": "python",
   "pygments_lexer": "ipython3",
   "version": "3.10.12"
  }
 },
 "nbformat": 4,
 "nbformat_minor": 4
}
