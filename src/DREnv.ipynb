{
 "cells": [
  {
   "cell_type": "markdown",
   "id": "7b9f3433-5be6-4186-a58c-dc4022c1601b",
   "metadata": {},
   "source": [
    "# Create customized environment"
   ]
  },
  {
   "cell_type": "markdown",
   "id": "96f6c0cc-8da4-42c3-8bee-5b81da56e184",
   "metadata": {},
   "source": [
    "**init:** accept integer *drcmax* which determines the maximum drc value before iteration 0 (Note: *drcmax* is not the drc value of the 0th iteration)"
   ]
  },
  {
   "cell_type": "markdown",
   "id": "def53466-6979-40d3-a568-551b9276a61a",
   "metadata": {},
   "source": [
    "**observation space:** provide information about the output DRC value for last and current iteration. (may include worker DRC values later)"
   ]
  },
  {
   "cell_type": "markdown",
   "id": "8fb44354-131c-4de2-b11d-0e14d3c6d0aa",
   "metadata": {},
   "source": [
    "**action space:** 65 different DRC sequence settings. (use default settings for now. May include continuously generated settings later) Use *Dict*, or *Typle*, etc. (reference: [Spaces](https://gymnasium.farama.org/api/spaces/))"
   ]
  },
  {
   "cell_type": "code",
   "execution_count": 1,
   "id": "847bd160-1714-4014-94f6-d7509d41f551",
   "metadata": {},
   "outputs": [],
   "source": [
    "import numpy as np\n",
    "\n",
    "import gymnasium as gym\n",
    "from gymnasium import spaces\n",
    "\n",
    "class DREnv(gym.Env):\n",
    "    # draw bar chart and line curve for visuliazation\n",
    "    # metadata = (\"render_modes\": [])\n",
    "\n",
    "    def __init__(self, render_mode=None, drcmax=1e6):\n",
    "        # Observations are boxes containing the DRC value of last and current iteration.\n",
    "        # for env initialization, use [-1, 1e6] as initial observation\n",
    "        self.size = drcmax\n",
    "        \n",
    "        self.observation_space = spaces.Box(low=-1, high=self.size, shape=(2,), dtype=int)\n",
    "\n",
    "        # We have 65 actions, corresponding to default DRC sequences\n",
    "        # shapeCost = 8\n",
    "        # ripupMode: ALL->0, DRC->1, NEARDRC->2\n",
    "        # followGuide: True->1, False->0\n",
    "        # 32 = 32\n",
    "        self.action_space = spaces.Discrete(65)\n",
    "\n",
    "        \"\"\"\n",
    "        The following dictionary maps abstract actions from `self.action_space` to\n",
    "        the setting we will use for next iteration.\n",
    "        I.e. 0 corresponds to the 0th default setting\n",
    "        \"\"\"\n",
    "        self._action_to_setting = {\n",
    "            0: (7,  0,  3,      8,       0,       8, 0.950, 0    ,  1),\n",
    "            1: (7, -2,  3,      8,       8,       8, 0.950, 0    ,  1),\n",
    "            2: (7, -5,  3,      8,       8,       8, 0.950, 0    ,  1),\n",
    "            3: (7,  0,  8,      8,      32,   2 * 8, 0.950, 1    , 0),\n",
    "            4: (7, -1,  8,      8,      32,   2 * 8, 0.950, 1    , 0),\n",
    "            5: (7, -2,  8,      8,      32,   2 * 8, 0.950, 1    , 0),\n",
    "            6: (7, -3,  8,      8,      32,   2 * 8, 0.950, 1    , 0),\n",
    "            7: (7, -4,  8,      8,      32,   2 * 8, 0.950, 1    , 0),\n",
    "            8: (7, -5,  8,      8,      32,   2 * 8, 0.950, 1    , 0),\n",
    "            9: (7, -6,  8,      8,      32,   2 * 8, 0.950, 1    , 0),\n",
    "            10: (7,  0,  8,  2 * 8,      32,   3 * 8, 0.950, 1    , 0),\n",
    "            11: (7, -1,  8,  2 * 8,      32,   3 * 8, 0.950, 1    , 0),\n",
    "            12: (7, -2,  8,  2 * 8,      32,   3 * 8, 0.950, 1    , 0),\n",
    "            13: (7, -3,  8,  2 * 8,      32,   3 * 8, 0.950, 1    , 0),\n",
    "            14: (7, -4,  8,  2 * 8,      32,   3 * 8, 0.950, 1    , 0),\n",
    "            15: (7, -5,  8,  2 * 8,      32,   4 * 8, 0.950, 1    , 0),\n",
    "            16: (7, -6,  8,  2 * 8,      32,   4 * 8, 0.950, 1    , 0),\n",
    "            17: (7, -3,  8,      8,      32,   4 * 8, 0.950, 0    , 0),\n",
    "            18: (7,  0,  8,  4 * 8,      32,   4 * 8, 0.950, 1    , 0),\n",
    "            19: (7, -1,  8,  4 * 8,      32,   4 * 8, 0.950, 1    , 0),\n",
    "            20: (7, -2,  8,  4 * 8,      32,  10 * 8, 0.950, 1    , 0),\n",
    "            21: (7, -3,  8,  4 * 8,      32,  10 * 8, 0.950, 1    , 0),\n",
    "            22: (7, -4,  8,  4 * 8,      32,  10 * 8, 0.950, 1    , 0),\n",
    "            23: (7, -5,  8,      8,      32,  10 * 8, 0.950, 2, 0),\n",
    "            24: (7, -6,  8,  4 * 8,      32,  10 * 8, 0.950, 1    , 0),\n",
    "            25: (5, -2,  8,      8,      32,  10 * 8, 0.950, 0    , 0),\n",
    "            26: (7,  0,  8,  8 * 8,  2 * 32,  10 * 8, 0.950, 1    , 0),\n",
    "            27: (7, -1,  8,  8 * 8,  2 * 32,  10 * 8, 0.950, 1    , 0),\n",
    "            28: (7, -2,  8,  8 * 8,  2 * 32,  10 * 8, 0.950, 1    , 0),\n",
    "            29: (7, -3,  8,  8 * 8,  2 * 32,  10 * 8, 0.950, 1    , 0),\n",
    "            30: (7, -4,  8,      8,      32,  50 * 8, 0.950, 2, 0),\n",
    "            31: (7, -5,  8,  8 * 8,  2 * 32,  50 * 8, 0.950, 1    , 0),\n",
    "            32: (7, -6,  8,  8 * 8,  2 * 32,  50 * 8, 0.950, 1    , 0),\n",
    "            33: (3, -1,  8,      8,      32,  50 * 8, 0.950, 0    , 0),\n",
    "            34: (7,  0,  8, 16 * 8,  4 * 32,  50 * 8, 0.950, 1    , 0),\n",
    "            35: (7, -1,  8, 16 * 8,  4 * 32,  50 * 8, 0.950, 1    , 0),\n",
    "            36: (7, -2,  8, 16 * 8,  4 * 32,  50 * 8, 0.950, 1    , 0),\n",
    "            37: (7, -3,  8,      8,      32,  50 * 8, 0.950, 2, 0),\n",
    "            38: (7, -4,  8, 16 * 8,  4 * 32,  50 * 8, 0.950, 1    , 0),\n",
    "            39: (7, -5,  8, 16 * 8,  4 * 32,  50 * 8, 0.950, 1    , 0),\n",
    "            40: (7, -6,  8, 16 * 8,  4 * 32, 100 * 8, 0.990, 1    , 0),\n",
    "            41: (3, -2,  8,      8,      32, 100 * 8, 0.990, 0    , 0),\n",
    "            42: (7,  0, 16, 16 * 8,  4 * 32, 100 * 8, 0.990, 1    , 0),\n",
    "            43: (7, -1, 16, 16 * 8,  4 * 32, 100 * 8, 0.990, 1    , 0),\n",
    "            44: (7, -2, 16,      8,      32, 100 * 8, 0.990, 2, 0),\n",
    "            45: (7, -3, 16, 16 * 8,  4 * 32, 100 * 8, 0.990, 1    , 0),\n",
    "            46: (7, -4, 16, 16 * 8,  4 * 32, 100 * 8, 0.990, 1    , 0),\n",
    "            47: (7, -5, 16, 16 * 8,  4 * 32, 100 * 8, 0.990, 1    , 0),\n",
    "            48: (7, -6, 16, 16 * 8,  4 * 32, 100 * 8, 0.990, 1    , 0),\n",
    "            49: (3, -0,  8,      8,      32, 100 * 8, 0.990, 0    , 0),\n",
    "            50: (7,  0, 32, 32 * 8,  8 * 32, 100 * 8, 0.999, 1    , 0),\n",
    "            51: (7, -1, 32,      8,      32, 100 * 8, 0.999, 2, 0),\n",
    "            52: (7, -2, 32, 32 * 8,  8 * 32, 100 * 8, 0.999, 1    , 0),\n",
    "            53: (7, -3, 32, 32 * 8,  8 * 32, 100 * 8, 0.999, 1    , 0),\n",
    "            54: (7, -4, 32, 32 * 8,  8 * 32, 100 * 8, 0.999, 1    , 0),\n",
    "            55: (7, -5, 32, 32 * 8,  8 * 32, 100 * 8, 0.999, 1    , 0),\n",
    "            56: (7, -6, 32, 32 * 8,  8 * 32, 100 * 8, 0.999, 1    , 0),\n",
    "            57: (3, -1,  8,      8,      32, 100 * 8, 0.999, 0    , 0),\n",
    "            58: (7,  0, 64,      8,      32, 100 * 8, 0.999, 2, 0),\n",
    "            59: (7, -1, 64, 64 * 8, 16 * 32, 100 * 8, 0.999, 1    , 0),\n",
    "            60: (7, -2, 64, 64 * 8, 16 * 32, 100 * 8, 0.999, 1    , 0),\n",
    "            61: (7, -3, 64, 64 * 8, 16 * 32, 100 * 8, 0.999, 1    , 0),\n",
    "            62: (7, -4, 64, 64 * 8, 16 * 32, 100 * 8, 0.999, 1    , 0),\n",
    "            63: (7, -5, 64, 64 * 8, 16 * 32, 100 * 8, 0.999, 1    , 0),\n",
    "            64: (7, -6, 64, 64 * 8, 16 * 32, 100 * 8, 0.999, 1    , 0)\n",
    "        }\n",
    "\n",
    "        # assert render_mode is None or render_mode in self.metadata[\"render_modes\"]\n",
    "        # self.render_mode = render_mode\n",
    "\n",
    "        # \"\"\"\n",
    "        # If human-rendering is used, `self.window` will be a reference\n",
    "        # to the window that we draw to. `self.clock` will be a clock that is used\n",
    "        # to ensure that the environment is rendered at the correct framerate in\n",
    "        # human-mode. They will remain `None` until human-mode is used for the\n",
    "        # first time.\n",
    "        # \"\"\"\n",
    "        # self.window = None\n",
    "        # self.clock = None\n",
    "\n",
    "    def _get_obs(self):\n",
    "        \"\"\"get DRC value for current iteration\"\"\"\n",
    "        return (self._prev_drc, self._curr_drc)\n",
    "\n",
    "    def _get_info(self):\n",
    "        \"\"\"\"provide index for current iteration\"\"\"\n",
    "        return {\n",
    "            \"iteration index\": self._index\n",
    "        }\n",
    "\n",
    "    def reset(self, seed=None, options=None):\n",
    "        # We need the following line to seed self.np_random\n",
    "        super().reset(seed=seed)\n",
    "\n",
    "        # randomly set a starting DRC value before 0th iteration\n",
    "        self._prev_drc = -1\n",
    "        self._curr_drc = self.np_random.integers(1, self.size, size=1, dtype=int)\n",
    "        self._index = -1    # before running any detailed routing DRC sequence setting\n",
    "        self._reward = -1   # reward starting value\n",
    "        observation = self._get_obs()\n",
    "        info = self._get_info()\n",
    "    \n",
    "        # if self.render_mode == \"human\":\n",
    "        #     self._render_frame()\n",
    "    \n",
    "        return observation, info\n",
    "\n",
    "    def step(self, action):\n",
    "        # Map the action (element of {0,1,2,3}) to the setting we use\n",
    "        setting = self._action_to_setting[action]\n",
    "        reward = self._reward\n",
    "        \n",
    "        # update DRC values\n",
    "        # for a fake-runtime, generate a random number which is smaller or equal to previous DRC\n",
    "        self._prev_drc = self._curr_drc\n",
    "        self._curr_drc = self.np_random.integers(0, self._curr_drc, size=1, dtype=int)\n",
    "        \n",
    "        # update index\n",
    "        self._index += 1\n",
    "        if self._index == 64 and self._curr_drc != 0:\n",
    "            # punish truncated case\n",
    "            truncated = True\n",
    "            reward = -255    # -255 is a large value without detailed thought\n",
    "        else:\n",
    "            truncated = False\n",
    "\n",
    "        # An episode is done iff current DRC value goes to zero\n",
    "        if self._curr_drc:\n",
    "            terminated = False\n",
    "        else:\n",
    "            terminated = True\n",
    "            # udpate reward: encourage finishing detailed routing using less iterations\n",
    "            reward = 0\n",
    "\n",
    "        # update observation and info\n",
    "        observation = self._get_obs()\n",
    "        info = self._get_info()\n",
    "    \n",
    "        # if self.render_mode == \"human\":\n",
    "        #     self._render_frame()\n",
    "    \n",
    "        return observation, reward, terminated, truncated, info\n",
    "\n",
    "    # def render(self):\n",
    "    #     if self.render_mode == \"rgb_array\":\n",
    "    #         return self._render_frame()\n",
    "    \n",
    "    # def _render_frame(self):\n",
    "    #     if self.window is None and self.render_mode == \"human\":\n",
    "    #         pygame.init()\n",
    "    #         pygame.display.init()\n",
    "    #         self.window = pygame.display.set_mode(\n",
    "    #             (self.window_size, self.window_size)\n",
    "    #         )\n",
    "    #     if self.clock is None and self.render_mode == \"human\":\n",
    "    #         self.clock = pygame.time.Clock()\n",
    "    \n",
    "    #     canvas = pygame.Surface((self.window_size, self.window_size))\n",
    "    #     canvas.fill((255, 255, 255))\n",
    "    #     pix_square_size = (\n",
    "    #         self.window_size / self.size\n",
    "    #     )  # The size of a single grid square in pixels\n",
    "    \n",
    "    #     # First we draw the target\n",
    "    #     pygame.draw.rect(\n",
    "    #         canvas,\n",
    "    #         (255, 0, 0),\n",
    "    #         pygame.Rect(\n",
    "    #             pix_square_size * self._target_location,\n",
    "    #             (pix_square_size, pix_square_size),\n",
    "    #         ),\n",
    "    #     )\n",
    "    #     # Now we draw the agent\n",
    "    #     pygame.draw.circle(\n",
    "    #         canvas,\n",
    "    #         (0, 0, 255),\n",
    "    #         (self._agent_location + 0.5) * pix_square_size,\n",
    "    #         pix_square_size / 3,\n",
    "    #     )\n",
    "    \n",
    "    #     # Finally, add some gridlines\n",
    "    #     for x in range(self.size + 1):\n",
    "    #         pygame.draw.line(\n",
    "    #             canvas,\n",
    "    #             0,\n",
    "    #             (0, pix_square_size * x),\n",
    "    #             (self.window_size, pix_square_size * x),\n",
    "    #             width=3,\n",
    "    #         )\n",
    "    #         pygame.draw.line(\n",
    "    #             canvas,\n",
    "    #             0,\n",
    "    #             (pix_square_size * x, 0),\n",
    "    #             (pix_square_size * x, self.window_size),\n",
    "    #             width=3,\n",
    "    #         )\n",
    "    \n",
    "    #     if self.render_mode == \"human\":\n",
    "    #         # The following line copies our drawings from `canvas` to the visible window\n",
    "    #         self.window.blit(canvas, canvas.get_rect())\n",
    "    #         pygame.event.pump()\n",
    "    #         pygame.display.update()\n",
    "    \n",
    "    #         # We need to ensure that human-rendering occurs at the predefined framerate.\n",
    "    #         # The following line will automatically add a delay to keep the framerate stable.\n",
    "    #         self.clock.tick(self.metadata[\"render_fps\"])\n",
    "    #     else:  # rgb_array\n",
    "    #         return np.transpose(\n",
    "    #             np.array(pygame.surfarray.pixels3d(canvas)), axes=(1, 0, 2)\n",
    "    #         )\n",
    "\n",
    "    # def close(self):\n",
    "    #     if self.window is not None:\n",
    "    #         pygame.display.quit()\n",
    "    #         pygame.quit()"
   ]
  },
  {
   "cell_type": "code",
   "execution_count": 2,
   "id": "785c2698-e1f4-491a-9929-57357e56a960",
   "metadata": {},
   "outputs": [],
   "source": [
    "# test in notebook\n",
    "env = DREnv()"
   ]
  },
  {
   "cell_type": "code",
   "execution_count": 3,
   "id": "7356eb5d-328d-4c03-86ed-1fdf0ece4c03",
   "metadata": {},
   "outputs": [],
   "source": [
    "observation, info = env.reset()"
   ]
  },
  {
   "cell_type": "code",
   "execution_count": 4,
   "id": "2a43d759-60cb-4336-bd8f-dac7db949972",
   "metadata": {},
   "outputs": [
    {
     "data": {
      "text/plain": [
       "(-1, array([702686]))"
      ]
     },
     "execution_count": 4,
     "metadata": {},
     "output_type": "execute_result"
    }
   ],
   "source": [
    "observation"
   ]
  },
  {
   "cell_type": "code",
   "execution_count": 5,
   "id": "59bf59a1-3fd9-4d30-a05d-7c6476d88a73",
   "metadata": {},
   "outputs": [
    {
     "data": {
      "text/plain": [
       "{'iteration index': -1}"
      ]
     },
     "execution_count": 5,
     "metadata": {},
     "output_type": "execute_result"
    }
   ],
   "source": [
    "info"
   ]
  },
  {
   "cell_type": "code",
   "execution_count": 6,
   "id": "43ec12e1-e6d0-47dd-b256-fe8b41e3bbf5",
   "metadata": {},
   "outputs": [
    {
     "data": {
      "text/plain": [
       "-1"
      ]
     },
     "execution_count": 6,
     "metadata": {},
     "output_type": "execute_result"
    }
   ],
   "source": [
    "info['iteration index']"
   ]
  },
  {
   "cell_type": "code",
   "execution_count": 7,
   "id": "7890768a-e23e-4314-9c4d-8057cfeb824a",
   "metadata": {},
   "outputs": [
    {
     "name": "stdout",
     "output_type": "stream",
     "text": [
      "Design 1 iteration 0 DRC: 10419, reward: -1, terminated: False, truncated: False\n",
      "Design 1 iteration 1 DRC: 4668, reward: -1, terminated: False, truncated: False\n",
      "Design 1 iteration 2 DRC: 1883, reward: -1, terminated: False, truncated: False\n",
      "Design 1 iteration 3 DRC: 1596, reward: -1, terminated: False, truncated: False\n",
      "Design 1 iteration 4 DRC: 839, reward: -1, terminated: False, truncated: False\n",
      "Design 1 iteration 5 DRC: 774, reward: -1, terminated: False, truncated: False\n",
      "Design 1 iteration 6 DRC: 260, reward: -1, terminated: False, truncated: False\n",
      "Design 1 iteration 7 DRC: 19, reward: -1, terminated: False, truncated: False\n",
      "Design 1 iteration 8 DRC: 17, reward: -1, terminated: False, truncated: False\n",
      "Design 1 iteration 9 DRC: 13, reward: -1, terminated: False, truncated: False\n",
      "Design 1 iteration 10 DRC: 1, reward: -1, terminated: False, truncated: False\n",
      "Design 1 iteration 11 DRC: 0, reward: 0, terminated: True, truncated: False\n",
      "Design 2 iteration 0 DRC: 333933, reward: -1, terminated: False, truncated: False\n",
      "Design 2 iteration 1 DRC: 194352, reward: -1, terminated: False, truncated: False\n",
      "Design 2 iteration 2 DRC: 194215, reward: -1, terminated: False, truncated: False\n",
      "Design 2 iteration 3 DRC: 127271, reward: -1, terminated: False, truncated: False\n",
      "Design 2 iteration 4 DRC: 111978, reward: -1, terminated: False, truncated: False\n",
      "Design 2 iteration 5 DRC: 19694, reward: -1, terminated: False, truncated: False\n",
      "Design 2 iteration 6 DRC: 13306, reward: -1, terminated: False, truncated: False\n",
      "Design 2 iteration 7 DRC: 3548, reward: -1, terminated: False, truncated: False\n",
      "Design 2 iteration 8 DRC: 1778, reward: -1, terminated: False, truncated: False\n",
      "Design 2 iteration 9 DRC: 284, reward: -1, terminated: False, truncated: False\n",
      "Design 2 iteration 10 DRC: 235, reward: -1, terminated: False, truncated: False\n",
      "Design 2 iteration 11 DRC: 131, reward: -1, terminated: False, truncated: False\n",
      "Design 2 iteration 12 DRC: 21, reward: -1, terminated: False, truncated: False\n",
      "Design 2 iteration 13 DRC: 10, reward: -1, terminated: False, truncated: False\n",
      "Design 2 iteration 14 DRC: 3, reward: -1, terminated: False, truncated: False\n",
      "Design 2 iteration 15 DRC: 1, reward: -1, terminated: False, truncated: False\n",
      "Design 2 iteration 16 DRC: 0, reward: 0, terminated: True, truncated: False\n",
      "Design 3 iteration 0 DRC: 220270, reward: -1, terminated: False, truncated: False\n",
      "Design 3 iteration 1 DRC: 192705, reward: -1, terminated: False, truncated: False\n",
      "Design 3 iteration 2 DRC: 131427, reward: -1, terminated: False, truncated: False\n",
      "Design 3 iteration 3 DRC: 31030, reward: -1, terminated: False, truncated: False\n",
      "Design 3 iteration 4 DRC: 26627, reward: -1, terminated: False, truncated: False\n",
      "Design 3 iteration 5 DRC: 15407, reward: -1, terminated: False, truncated: False\n",
      "Design 3 iteration 6 DRC: 14766, reward: -1, terminated: False, truncated: False\n",
      "Design 3 iteration 7 DRC: 4800, reward: -1, terminated: False, truncated: False\n",
      "Design 3 iteration 8 DRC: 2036, reward: -1, terminated: False, truncated: False\n",
      "Design 3 iteration 9 DRC: 1467, reward: -1, terminated: False, truncated: False\n",
      "Design 3 iteration 10 DRC: 863, reward: -1, terminated: False, truncated: False\n",
      "Design 3 iteration 11 DRC: 138, reward: -1, terminated: False, truncated: False\n",
      "Design 3 iteration 12 DRC: 121, reward: -1, terminated: False, truncated: False\n",
      "Design 3 iteration 13 DRC: 69, reward: -1, terminated: False, truncated: False\n",
      "Design 3 iteration 14 DRC: 33, reward: -1, terminated: False, truncated: False\n",
      "Design 3 iteration 15 DRC: 27, reward: -1, terminated: False, truncated: False\n",
      "Design 3 iteration 16 DRC: 3, reward: -1, terminated: False, truncated: False\n",
      "Design 3 iteration 17 DRC: 1, reward: -1, terminated: False, truncated: False\n",
      "Design 3 iteration 18 DRC: 0, reward: 0, terminated: True, truncated: False\n",
      "Design 4 iteration 0 DRC: 393780, reward: -1, terminated: False, truncated: False\n",
      "Design 4 iteration 1 DRC: 78897, reward: -1, terminated: False, truncated: False\n",
      "Design 4 iteration 2 DRC: 14525, reward: -1, terminated: False, truncated: False\n",
      "Design 4 iteration 3 DRC: 11299, reward: -1, terminated: False, truncated: False\n",
      "Design 4 iteration 4 DRC: 2894, reward: -1, terminated: False, truncated: False\n",
      "Design 4 iteration 5 DRC: 2672, reward: -1, terminated: False, truncated: False\n",
      "Design 4 iteration 6 DRC: 1131, reward: -1, terminated: False, truncated: False\n",
      "Design 4 iteration 7 DRC: 332, reward: -1, terminated: False, truncated: False\n",
      "Design 4 iteration 8 DRC: 223, reward: -1, terminated: False, truncated: False\n",
      "Design 4 iteration 9 DRC: 220, reward: -1, terminated: False, truncated: False\n",
      "Design 4 iteration 10 DRC: 22, reward: -1, terminated: False, truncated: False\n",
      "Design 4 iteration 11 DRC: 1, reward: -1, terminated: False, truncated: False\n",
      "Design 4 iteration 12 DRC: 0, reward: 0, terminated: True, truncated: False\n",
      "Design 5 iteration 0 DRC: 88001, reward: -1, terminated: False, truncated: False\n",
      "Design 5 iteration 1 DRC: 4433, reward: -1, terminated: False, truncated: False\n",
      "Design 5 iteration 2 DRC: 2270, reward: -1, terminated: False, truncated: False\n",
      "Design 5 iteration 3 DRC: 69, reward: -1, terminated: False, truncated: False\n",
      "Design 5 iteration 4 DRC: 31, reward: -1, terminated: False, truncated: False\n",
      "Design 5 iteration 5 DRC: 26, reward: -1, terminated: False, truncated: False\n",
      "Design 5 iteration 6 DRC: 17, reward: -1, terminated: False, truncated: False\n",
      "Design 5 iteration 7 DRC: 13, reward: -1, terminated: False, truncated: False\n",
      "Design 5 iteration 8 DRC: 5, reward: -1, terminated: False, truncated: False\n",
      "Design 5 iteration 9 DRC: 4, reward: -1, terminated: False, truncated: False\n",
      "Design 5 iteration 10 DRC: 0, reward: 0, terminated: True, truncated: False\n",
      "Design 6 iteration 0 DRC: 57736, reward: -1, terminated: False, truncated: False\n",
      "Design 6 iteration 1 DRC: 28587, reward: -1, terminated: False, truncated: False\n",
      "Design 6 iteration 2 DRC: 2466, reward: -1, terminated: False, truncated: False\n",
      "Design 6 iteration 3 DRC: 29, reward: -1, terminated: False, truncated: False\n",
      "Design 6 iteration 4 DRC: 6, reward: -1, terminated: False, truncated: False\n",
      "Design 6 iteration 5 DRC: 3, reward: -1, terminated: False, truncated: False\n",
      "Design 6 iteration 6 DRC: 0, reward: 0, terminated: True, truncated: False\n",
      "Design 7 iteration 0 DRC: 5785, reward: -1, terminated: False, truncated: False\n",
      "Design 7 iteration 1 DRC: 215, reward: -1, terminated: False, truncated: False\n",
      "Design 7 iteration 2 DRC: 9, reward: -1, terminated: False, truncated: False\n",
      "Design 7 iteration 3 DRC: 4, reward: -1, terminated: False, truncated: False\n",
      "Design 7 iteration 4 DRC: 3, reward: -1, terminated: False, truncated: False\n",
      "Design 7 iteration 5 DRC: 1, reward: -1, terminated: False, truncated: False\n",
      "Design 7 iteration 6 DRC: 0, reward: 0, terminated: True, truncated: False\n",
      "Design 8 iteration 0 DRC: 54269, reward: -1, terminated: False, truncated: False\n",
      "Design 8 iteration 1 DRC: 42346, reward: -1, terminated: False, truncated: False\n",
      "Design 8 iteration 2 DRC: 23683, reward: -1, terminated: False, truncated: False\n",
      "Design 8 iteration 3 DRC: 4763, reward: -1, terminated: False, truncated: False\n",
      "Design 8 iteration 4 DRC: 2628, reward: -1, terminated: False, truncated: False\n",
      "Design 8 iteration 5 DRC: 1960, reward: -1, terminated: False, truncated: False\n",
      "Design 8 iteration 6 DRC: 1569, reward: -1, terminated: False, truncated: False\n",
      "Design 8 iteration 7 DRC: 749, reward: -1, terminated: False, truncated: False\n",
      "Design 8 iteration 8 DRC: 62, reward: -1, terminated: False, truncated: False\n",
      "Design 8 iteration 9 DRC: 27, reward: -1, terminated: False, truncated: False\n",
      "Design 8 iteration 10 DRC: 6, reward: -1, terminated: False, truncated: False\n",
      "Design 8 iteration 11 DRC: 2, reward: -1, terminated: False, truncated: False\n",
      "Design 8 iteration 12 DRC: 0, reward: 0, terminated: True, truncated: False\n",
      "Design 9 iteration 0 DRC: 758580, reward: -1, terminated: False, truncated: False\n"
     ]
    }
   ],
   "source": [
    "# test loop\n",
    "sample = 100\n",
    "num = 1\n",
    "\n",
    "for _ in range(sample):\n",
    "    action = env.action_space.sample()\n",
    "    observation, reward, terminated, truncated, info = env.step(action)\n",
    "    print(\"Design {} iteration {} DRC: {}, reward: {}, terminated: {}, truncated: {}\".format(num, \n",
    "        info['iteration index'], observation[1][0], reward, terminated, truncated))\n",
    "    if terminated or truncated:\n",
    "        observation, info = env.reset()\n",
    "        num += 1\n",
    "env.close()"
   ]
  },
  {
   "cell_type": "code",
   "execution_count": 8,
   "id": "6f99dc6e-1f25-4f40-a7dc-def9c07536c7",
   "metadata": {},
   "outputs": [
    {
     "data": {
      "text/plain": [
       "((-1, array([767340])), {'iteration index': -1})"
      ]
     },
     "execution_count": 8,
     "metadata": {},
     "output_type": "execute_result"
    }
   ],
   "source": [
    "env.reset()"
   ]
  },
  {
   "cell_type": "markdown",
   "id": "c9ebf5ed-fa7a-40c1-b6a1-86c7b638d6be",
   "metadata": {},
   "source": [
    "## test customized environment"
   ]
  },
  {
   "cell_type": "code",
   "execution_count": 1,
   "id": "c157aeb8-bd54-4b76-9788-312106691d66",
   "metadata": {},
   "outputs": [],
   "source": [
    "import gymnasium as gym\n",
    "import DREnv_fake"
   ]
  },
  {
   "cell_type": "code",
   "execution_count": 2,
   "id": "fc03cd23-1573-4470-9a48-f2538ab8783e",
   "metadata": {},
   "outputs": [],
   "source": [
    "env = gym.make('DREnv_fake/DREnv-v0')"
   ]
  },
  {
   "cell_type": "code",
   "execution_count": 3,
   "id": "db271a11-2f31-488b-99a8-8dd4d53c6ba9",
   "metadata": {},
   "outputs": [
    {
     "name": "stderr",
     "output_type": "stream",
     "text": [
      "/home/jborg/Data/Research/DLPnR/DL-code-for-detailed-routing/env/lib/python3.10/site-packages/gymnasium/utils/passive_env_checker.py:131: UserWarning: \u001b[33mWARN: The obs returned by the `reset()` method was expecting a numpy array, actual type: <class 'tuple'>\u001b[0m\n",
      "  logger.warn(\n",
      "/home/jborg/Data/Research/DLPnR/DL-code-for-detailed-routing/env/lib/python3.10/site-packages/gymnasium/spaces/box.py:240: UserWarning: \u001b[33mWARN: Casting input x to numpy array.\u001b[0m\n",
      "  gym.logger.warn(\"Casting input x to numpy array.\")\n",
      "/home/jborg/Data/Research/DLPnR/DL-code-for-detailed-routing/env/lib/python3.10/site-packages/gymnasium/utils/passive_env_checker.py:159: UserWarning: \u001b[33mWARN: The obs returned by the `reset()` method is not within the observation space.\u001b[0m\n",
      "  logger.warn(f\"{pre} is not within the observation space.\")\n"
     ]
    }
   ],
   "source": [
    "observation, info = env.reset()"
   ]
  },
  {
   "cell_type": "code",
   "execution_count": 4,
   "id": "756911bc-34f2-42ac-ad6e-e4d3e1c49ca0",
   "metadata": {},
   "outputs": [
    {
     "data": {
      "text/plain": [
       "(-1, array([761614]))"
      ]
     },
     "execution_count": 4,
     "metadata": {},
     "output_type": "execute_result"
    }
   ],
   "source": [
    "observation"
   ]
  },
  {
   "cell_type": "code",
   "execution_count": 5,
   "id": "72f33a7d-7877-4e19-b847-bbb0f1e1f982",
   "metadata": {},
   "outputs": [
    {
     "data": {
      "text/plain": [
       "{'iteration index': -1}"
      ]
     },
     "execution_count": 5,
     "metadata": {},
     "output_type": "execute_result"
    }
   ],
   "source": [
    "info"
   ]
  },
  {
   "cell_type": "code",
   "execution_count": 6,
   "id": "d5e4a953-d1d4-4fb9-a1cc-39ca56c2e6c6",
   "metadata": {},
   "outputs": [
    {
     "name": "stdout",
     "output_type": "stream",
     "text": [
      "Design 1 iteration 0 DRC: 128845, reward: -1, terminated: False, truncated: False\n",
      "Design 1 iteration 1 DRC: 14382, reward: -1, terminated: False, truncated: False\n",
      "Design 1 iteration 2 DRC: 4530, reward: -1, terminated: False, truncated: False\n",
      "Design 1 iteration 3 DRC: 294, reward: -1, terminated: False, truncated: False\n",
      "Design 1 iteration 4 DRC: 169, reward: -1, terminated: False, truncated: False\n",
      "Design 1 iteration 5 DRC: 80, reward: -1, terminated: False, truncated: False\n",
      "Design 1 iteration 6 DRC: 16, reward: -1, terminated: False, truncated: False\n",
      "Design 1 iteration 7 DRC: 6, reward: -1, terminated: False, truncated: False\n",
      "Design 1 iteration 8 DRC: 1, reward: -1, terminated: False, truncated: False\n",
      "Design 1 iteration 9 DRC: 0, reward: 0, terminated: True, truncated: False\n",
      "Design 2 iteration 0 DRC: 352426, reward: -1, terminated: False, truncated: False\n",
      "Design 2 iteration 1 DRC: 82785, reward: -1, terminated: False, truncated: False\n",
      "Design 2 iteration 2 DRC: 74153, reward: -1, terminated: False, truncated: False\n",
      "Design 2 iteration 3 DRC: 24873, reward: -1, terminated: False, truncated: False\n",
      "Design 2 iteration 4 DRC: 17185, reward: -1, terminated: False, truncated: False\n",
      "Design 2 iteration 5 DRC: 2273, reward: -1, terminated: False, truncated: False\n",
      "Design 2 iteration 6 DRC: 382, reward: -1, terminated: False, truncated: False\n",
      "Design 2 iteration 7 DRC: 345, reward: -1, terminated: False, truncated: False\n",
      "Design 2 iteration 8 DRC: 314, reward: -1, terminated: False, truncated: False\n",
      "Design 2 iteration 9 DRC: 125, reward: -1, terminated: False, truncated: False\n",
      "Design 2 iteration 10 DRC: 34, reward: -1, terminated: False, truncated: False\n",
      "Design 2 iteration 11 DRC: 3, reward: -1, terminated: False, truncated: False\n",
      "Design 2 iteration 12 DRC: 2, reward: -1, terminated: False, truncated: False\n",
      "Design 2 iteration 13 DRC: 0, reward: 0, terminated: True, truncated: False\n",
      "Design 3 iteration 0 DRC: 54202, reward: -1, terminated: False, truncated: False\n",
      "Design 3 iteration 1 DRC: 37721, reward: -1, terminated: False, truncated: False\n",
      "Design 3 iteration 2 DRC: 11507, reward: -1, terminated: False, truncated: False\n",
      "Design 3 iteration 3 DRC: 10166, reward: -1, terminated: False, truncated: False\n",
      "Design 3 iteration 4 DRC: 875, reward: -1, terminated: False, truncated: False\n",
      "Design 3 iteration 5 DRC: 482, reward: -1, terminated: False, truncated: False\n",
      "Design 3 iteration 6 DRC: 407, reward: -1, terminated: False, truncated: False\n",
      "Design 3 iteration 7 DRC: 19, reward: -1, terminated: False, truncated: False\n",
      "Design 3 iteration 8 DRC: 6, reward: -1, terminated: False, truncated: False\n",
      "Design 3 iteration 9 DRC: 3, reward: -1, terminated: False, truncated: False\n",
      "Design 3 iteration 10 DRC: 0, reward: 0, terminated: True, truncated: False\n",
      "Design 4 iteration 0 DRC: 41649, reward: -1, terminated: False, truncated: False\n",
      "Design 4 iteration 1 DRC: 30183, reward: -1, terminated: False, truncated: False\n",
      "Design 4 iteration 2 DRC: 11376, reward: -1, terminated: False, truncated: False\n",
      "Design 4 iteration 3 DRC: 10874, reward: -1, terminated: False, truncated: False\n",
      "Design 4 iteration 4 DRC: 1473, reward: -1, terminated: False, truncated: False\n",
      "Design 4 iteration 5 DRC: 588, reward: -1, terminated: False, truncated: False\n",
      "Design 4 iteration 6 DRC: 373, reward: -1, terminated: False, truncated: False\n",
      "Design 4 iteration 7 DRC: 85, reward: -1, terminated: False, truncated: False\n",
      "Design 4 iteration 8 DRC: 34, reward: -1, terminated: False, truncated: False\n",
      "Design 4 iteration 9 DRC: 6, reward: -1, terminated: False, truncated: False\n",
      "Design 4 iteration 10 DRC: 2, reward: -1, terminated: False, truncated: False\n",
      "Design 4 iteration 11 DRC: 0, reward: 0, terminated: True, truncated: False\n",
      "Design 5 iteration 0 DRC: 509662, reward: -1, terminated: False, truncated: False\n",
      "Design 5 iteration 1 DRC: 22232, reward: -1, terminated: False, truncated: False\n",
      "Design 5 iteration 2 DRC: 2595, reward: -1, terminated: False, truncated: False\n",
      "Design 5 iteration 3 DRC: 366, reward: -1, terminated: False, truncated: False\n",
      "Design 5 iteration 4 DRC: 131, reward: -1, terminated: False, truncated: False\n",
      "Design 5 iteration 5 DRC: 124, reward: -1, terminated: False, truncated: False\n",
      "Design 5 iteration 6 DRC: 100, reward: -1, terminated: False, truncated: False\n",
      "Design 5 iteration 7 DRC: 60, reward: -1, terminated: False, truncated: False\n",
      "Design 5 iteration 8 DRC: 34, reward: -1, terminated: False, truncated: False\n",
      "Design 5 iteration 9 DRC: 22, reward: -1, terminated: False, truncated: False\n",
      "Design 5 iteration 10 DRC: 8, reward: -1, terminated: False, truncated: False\n",
      "Design 5 iteration 11 DRC: 0, reward: 0, terminated: True, truncated: False\n",
      "Design 6 iteration 0 DRC: 348843, reward: -1, terminated: False, truncated: False\n",
      "Design 6 iteration 1 DRC: 348627, reward: -1, terminated: False, truncated: False\n",
      "Design 6 iteration 2 DRC: 78230, reward: -1, terminated: False, truncated: False\n",
      "Design 6 iteration 3 DRC: 78204, reward: -1, terminated: False, truncated: False\n",
      "Design 6 iteration 4 DRC: 70033, reward: -1, terminated: False, truncated: False\n",
      "Design 6 iteration 5 DRC: 7258, reward: -1, terminated: False, truncated: False\n",
      "Design 6 iteration 6 DRC: 5088, reward: -1, terminated: False, truncated: False\n",
      "Design 6 iteration 7 DRC: 923, reward: -1, terminated: False, truncated: False\n",
      "Design 6 iteration 8 DRC: 249, reward: -1, terminated: False, truncated: False\n",
      "Design 6 iteration 9 DRC: 245, reward: -1, terminated: False, truncated: False\n",
      "Design 6 iteration 10 DRC: 127, reward: -1, terminated: False, truncated: False\n",
      "Design 6 iteration 11 DRC: 35, reward: -1, terminated: False, truncated: False\n",
      "Design 6 iteration 12 DRC: 17, reward: -1, terminated: False, truncated: False\n",
      "Design 6 iteration 13 DRC: 9, reward: -1, terminated: False, truncated: False\n",
      "Design 6 iteration 14 DRC: 7, reward: -1, terminated: False, truncated: False\n",
      "Design 6 iteration 15 DRC: 6, reward: -1, terminated: False, truncated: False\n",
      "Design 6 iteration 16 DRC: 5, reward: -1, terminated: False, truncated: False\n",
      "Design 6 iteration 17 DRC: 0, reward: 0, terminated: True, truncated: False\n",
      "Design 7 iteration 0 DRC: 246338, reward: -1, terminated: False, truncated: False\n",
      "Design 7 iteration 1 DRC: 153304, reward: -1, terminated: False, truncated: False\n",
      "Design 7 iteration 2 DRC: 72102, reward: -1, terminated: False, truncated: False\n",
      "Design 7 iteration 3 DRC: 64186, reward: -1, terminated: False, truncated: False\n",
      "Design 7 iteration 4 DRC: 6710, reward: -1, terminated: False, truncated: False\n",
      "Design 7 iteration 5 DRC: 4510, reward: -1, terminated: False, truncated: False\n",
      "Design 7 iteration 6 DRC: 2679, reward: -1, terminated: False, truncated: False\n",
      "Design 7 iteration 7 DRC: 2448, reward: -1, terminated: False, truncated: False\n",
      "Design 7 iteration 8 DRC: 1723, reward: -1, terminated: False, truncated: False\n",
      "Design 7 iteration 9 DRC: 1275, reward: -1, terminated: False, truncated: False\n",
      "Design 7 iteration 10 DRC: 89, reward: -1, terminated: False, truncated: False\n",
      "Design 7 iteration 11 DRC: 28, reward: -1, terminated: False, truncated: False\n",
      "Design 7 iteration 12 DRC: 26, reward: -1, terminated: False, truncated: False\n",
      "Design 7 iteration 13 DRC: 6, reward: -1, terminated: False, truncated: False\n",
      "Design 7 iteration 14 DRC: 4, reward: -1, terminated: False, truncated: False\n",
      "Design 7 iteration 15 DRC: 0, reward: 0, terminated: True, truncated: False\n",
      "Design 8 iteration 0 DRC: 448640, reward: -1, terminated: False, truncated: False\n",
      "Design 8 iteration 1 DRC: 426847, reward: -1, terminated: False, truncated: False\n",
      "Design 8 iteration 2 DRC: 261836, reward: -1, terminated: False, truncated: False\n",
      "Design 8 iteration 3 DRC: 73053, reward: -1, terminated: False, truncated: False\n",
      "Design 8 iteration 4 DRC: 63040, reward: -1, terminated: False, truncated: False\n",
      "Design 8 iteration 5 DRC: 5051, reward: -1, terminated: False, truncated: False\n",
      "Design 8 iteration 6 DRC: 5035, reward: -1, terminated: False, truncated: False\n"
     ]
    },
    {
     "name": "stderr",
     "output_type": "stream",
     "text": [
      "/home/jborg/Data/Research/DLPnR/DL-code-for-detailed-routing/env/lib/python3.10/site-packages/gymnasium/utils/passive_env_checker.py:131: UserWarning: \u001b[33mWARN: The obs returned by the `step()` method was expecting a numpy array, actual type: <class 'tuple'>\u001b[0m\n",
      "  logger.warn(\n",
      "/home/jborg/Data/Research/DLPnR/DL-code-for-detailed-routing/env/lib/python3.10/site-packages/gymnasium/utils/passive_env_checker.py:159: UserWarning: \u001b[33mWARN: The obs returned by the `step()` method is not within the observation space.\u001b[0m\n",
      "  logger.warn(f\"{pre} is not within the observation space.\")\n"
     ]
    }
   ],
   "source": [
    "# test loop\n",
    "sample = 100\n",
    "num = 1\n",
    "\n",
    "for _ in range(sample):\n",
    "    action = env.action_space.sample()\n",
    "    observation, reward, terminated, truncated, info = env.step(action)\n",
    "    print(\"Design {} iteration {} DRC: {}, reward: {}, terminated: {}, truncated: {}\".format(num, \n",
    "        info['iteration index'], observation[1][0], reward, terminated, truncated))\n",
    "    if terminated or truncated:\n",
    "        observation, info = env.reset()\n",
    "        num += 1\n",
    "env.close()"
   ]
  },
  {
   "cell_type": "code",
   "execution_count": null,
   "id": "73f542a1-1b1c-4fee-b8a4-56dac45766f3",
   "metadata": {},
   "outputs": [],
   "source": []
  }
 ],
 "metadata": {
  "kernelspec": {
   "display_name": "Python 3 (ipykernel)",
   "language": "python",
   "name": "python3"
  },
  "language_info": {
   "codemirror_mode": {
    "name": "ipython",
    "version": 3
   },
   "file_extension": ".py",
   "mimetype": "text/x-python",
   "name": "python",
   "nbconvert_exporter": "python",
   "pygments_lexer": "ipython3",
   "version": "3.10.12"
  }
 },
 "nbformat": 4,
 "nbformat_minor": 5
}
